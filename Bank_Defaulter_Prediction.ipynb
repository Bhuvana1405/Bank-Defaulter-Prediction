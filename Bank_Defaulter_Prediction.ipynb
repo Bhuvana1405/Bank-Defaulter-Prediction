{
  "cells": [
    {
      "cell_type": "code",
      "execution_count": null,
      "metadata": {
        "id": "TARduSBVDzMh"
      },
      "outputs": [],
      "source": [
        "import pandas as pd\n",
        "import numpy as np\n",
        "import matplotlib.pyplot as plt\n",
        "import seaborn as sns\n",
        "from copy import deepcopy, copy\n",
        "from imblearn.combine import SMOTETomek\n",
        "from sklearn.ensemble import VotingClassifier\n",
        "from xgboost import XGBClassifier\n",
        "%matplotlib inline"
      ]
    },
    {
      "cell_type": "code",
      "execution_count": null,
      "metadata": {
        "id": "OxmzXeE2EHPn"
      },
      "outputs": [],
      "source": [
        "df = pd.read_csv(\"/content/sample_data/Loan_default.csv\")"
      ]
    },
    {
      "cell_type": "code",
      "execution_count": null,
      "metadata": {
        "colab": {
          "base_uri": "https://localhost:8080/",
          "height": 243
        },
        "id": "yy0rUnxUUInt",
        "outputId": "ef591910-dcb0-439c-ff50-4fad571a3a3d"
      },
      "outputs": [
        {
          "data": {
            "application/vnd.google.colaboratory.intrinsic+json": {
              "type": "dataframe",
              "variable_name": "df"
            },
            "text/html": [
              "\n",
              "  <div id=\"df-627597a2-7076-4c85-957e-cd4ffd3b25b8\" class=\"colab-df-container\">\n",
              "    <div>\n",
              "<style scoped>\n",
              "    .dataframe tbody tr th:only-of-type {\n",
              "        vertical-align: middle;\n",
              "    }\n",
              "\n",
              "    .dataframe tbody tr th {\n",
              "        vertical-align: top;\n",
              "    }\n",
              "\n",
              "    .dataframe thead th {\n",
              "        text-align: right;\n",
              "    }\n",
              "</style>\n",
              "<table border=\"1\" class=\"dataframe\">\n",
              "  <thead>\n",
              "    <tr style=\"text-align: right;\">\n",
              "      <th></th>\n",
              "      <th>LoanID</th>\n",
              "      <th>Age</th>\n",
              "      <th>Income</th>\n",
              "      <th>LoanAmount</th>\n",
              "      <th>CreditScore</th>\n",
              "      <th>MonthsEmployed</th>\n",
              "      <th>NumCreditLines</th>\n",
              "      <th>InterestRate</th>\n",
              "      <th>LoanTerm</th>\n",
              "      <th>DTIRatio</th>\n",
              "      <th>Education</th>\n",
              "      <th>EmploymentType</th>\n",
              "      <th>MaritalStatus</th>\n",
              "      <th>HasMortgage</th>\n",
              "      <th>HasDependents</th>\n",
              "      <th>LoanPurpose</th>\n",
              "      <th>HasCoSigner</th>\n",
              "      <th>Default</th>\n",
              "    </tr>\n",
              "  </thead>\n",
              "  <tbody>\n",
              "    <tr>\n",
              "      <th>0</th>\n",
              "      <td>I38PQUQS96</td>\n",
              "      <td>56</td>\n",
              "      <td>85994</td>\n",
              "      <td>50587</td>\n",
              "      <td>520</td>\n",
              "      <td>80</td>\n",
              "      <td>4</td>\n",
              "      <td>15.23</td>\n",
              "      <td>36</td>\n",
              "      <td>0.44</td>\n",
              "      <td>Bachelor's</td>\n",
              "      <td>Full-time</td>\n",
              "      <td>Divorced</td>\n",
              "      <td>Yes</td>\n",
              "      <td>Yes</td>\n",
              "      <td>Other</td>\n",
              "      <td>Yes</td>\n",
              "      <td>0</td>\n",
              "    </tr>\n",
              "    <tr>\n",
              "      <th>1</th>\n",
              "      <td>HPSK72WA7R</td>\n",
              "      <td>69</td>\n",
              "      <td>50432</td>\n",
              "      <td>124440</td>\n",
              "      <td>458</td>\n",
              "      <td>15</td>\n",
              "      <td>1</td>\n",
              "      <td>4.81</td>\n",
              "      <td>60</td>\n",
              "      <td>0.68</td>\n",
              "      <td>Master's</td>\n",
              "      <td>Full-time</td>\n",
              "      <td>Married</td>\n",
              "      <td>No</td>\n",
              "      <td>No</td>\n",
              "      <td>Other</td>\n",
              "      <td>Yes</td>\n",
              "      <td>0</td>\n",
              "    </tr>\n",
              "    <tr>\n",
              "      <th>2</th>\n",
              "      <td>C1OZ6DPJ8Y</td>\n",
              "      <td>46</td>\n",
              "      <td>84208</td>\n",
              "      <td>129188</td>\n",
              "      <td>451</td>\n",
              "      <td>26</td>\n",
              "      <td>3</td>\n",
              "      <td>21.17</td>\n",
              "      <td>24</td>\n",
              "      <td>0.31</td>\n",
              "      <td>Master's</td>\n",
              "      <td>Unemployed</td>\n",
              "      <td>Divorced</td>\n",
              "      <td>Yes</td>\n",
              "      <td>Yes</td>\n",
              "      <td>Auto</td>\n",
              "      <td>No</td>\n",
              "      <td>1</td>\n",
              "    </tr>\n",
              "    <tr>\n",
              "      <th>3</th>\n",
              "      <td>V2KKSFM3UN</td>\n",
              "      <td>32</td>\n",
              "      <td>31713</td>\n",
              "      <td>44799</td>\n",
              "      <td>743</td>\n",
              "      <td>0</td>\n",
              "      <td>3</td>\n",
              "      <td>7.07</td>\n",
              "      <td>24</td>\n",
              "      <td>0.23</td>\n",
              "      <td>High School</td>\n",
              "      <td>Full-time</td>\n",
              "      <td>Married</td>\n",
              "      <td>No</td>\n",
              "      <td>No</td>\n",
              "      <td>Business</td>\n",
              "      <td>No</td>\n",
              "      <td>0</td>\n",
              "    </tr>\n",
              "    <tr>\n",
              "      <th>4</th>\n",
              "      <td>EY08JDHTZP</td>\n",
              "      <td>60</td>\n",
              "      <td>20437</td>\n",
              "      <td>9139</td>\n",
              "      <td>633</td>\n",
              "      <td>8</td>\n",
              "      <td>4</td>\n",
              "      <td>6.51</td>\n",
              "      <td>48</td>\n",
              "      <td>0.73</td>\n",
              "      <td>Bachelor's</td>\n",
              "      <td>Unemployed</td>\n",
              "      <td>Divorced</td>\n",
              "      <td>No</td>\n",
              "      <td>Yes</td>\n",
              "      <td>Auto</td>\n",
              "      <td>No</td>\n",
              "      <td>0</td>\n",
              "    </tr>\n",
              "  </tbody>\n",
              "</table>\n",
              "</div>\n",
              "    <div class=\"colab-df-buttons\">\n",
              "\n",
              "  <div class=\"colab-df-container\">\n",
              "    <button class=\"colab-df-convert\" onclick=\"convertToInteractive('df-627597a2-7076-4c85-957e-cd4ffd3b25b8')\"\n",
              "            title=\"Convert this dataframe to an interactive table.\"\n",
              "            style=\"display:none;\">\n",
              "\n",
              "  <svg xmlns=\"http://www.w3.org/2000/svg\" height=\"24px\" viewBox=\"0 -960 960 960\">\n",
              "    <path d=\"M120-120v-720h720v720H120Zm60-500h600v-160H180v160Zm220 220h160v-160H400v160Zm0 220h160v-160H400v160ZM180-400h160v-160H180v160Zm440 0h160v-160H620v160ZM180-180h160v-160H180v160Zm440 0h160v-160H620v160Z\"/>\n",
              "  </svg>\n",
              "    </button>\n",
              "\n",
              "  <style>\n",
              "    .colab-df-container {\n",
              "      display:flex;\n",
              "      gap: 12px;\n",
              "    }\n",
              "\n",
              "    .colab-df-convert {\n",
              "      background-color: #E8F0FE;\n",
              "      border: none;\n",
              "      border-radius: 50%;\n",
              "      cursor: pointer;\n",
              "      display: none;\n",
              "      fill: #1967D2;\n",
              "      height: 32px;\n",
              "      padding: 0 0 0 0;\n",
              "      width: 32px;\n",
              "    }\n",
              "\n",
              "    .colab-df-convert:hover {\n",
              "      background-color: #E2EBFA;\n",
              "      box-shadow: 0px 1px 2px rgba(60, 64, 67, 0.3), 0px 1px 3px 1px rgba(60, 64, 67, 0.15);\n",
              "      fill: #174EA6;\n",
              "    }\n",
              "\n",
              "    .colab-df-buttons div {\n",
              "      margin-bottom: 4px;\n",
              "    }\n",
              "\n",
              "    [theme=dark] .colab-df-convert {\n",
              "      background-color: #3B4455;\n",
              "      fill: #D2E3FC;\n",
              "    }\n",
              "\n",
              "    [theme=dark] .colab-df-convert:hover {\n",
              "      background-color: #434B5C;\n",
              "      box-shadow: 0px 1px 3px 1px rgba(0, 0, 0, 0.15);\n",
              "      filter: drop-shadow(0px 1px 2px rgba(0, 0, 0, 0.3));\n",
              "      fill: #FFFFFF;\n",
              "    }\n",
              "  </style>\n",
              "\n",
              "    <script>\n",
              "      const buttonEl =\n",
              "        document.querySelector('#df-627597a2-7076-4c85-957e-cd4ffd3b25b8 button.colab-df-convert');\n",
              "      buttonEl.style.display =\n",
              "        google.colab.kernel.accessAllowed ? 'block' : 'none';\n",
              "\n",
              "      async function convertToInteractive(key) {\n",
              "        const element = document.querySelector('#df-627597a2-7076-4c85-957e-cd4ffd3b25b8');\n",
              "        const dataTable =\n",
              "          await google.colab.kernel.invokeFunction('convertToInteractive',\n",
              "                                                    [key], {});\n",
              "        if (!dataTable) return;\n",
              "\n",
              "        const docLinkHtml = 'Like what you see? Visit the ' +\n",
              "          '<a target=\"_blank\" href=https://colab.research.google.com/notebooks/data_table.ipynb>data table notebook</a>'\n",
              "          + ' to learn more about interactive tables.';\n",
              "        element.innerHTML = '';\n",
              "        dataTable['output_type'] = 'display_data';\n",
              "        await google.colab.output.renderOutput(dataTable, element);\n",
              "        const docLink = document.createElement('div');\n",
              "        docLink.innerHTML = docLinkHtml;\n",
              "        element.appendChild(docLink);\n",
              "      }\n",
              "    </script>\n",
              "  </div>\n",
              "\n",
              "\n",
              "<div id=\"df-fa9b40e5-315b-45b8-8932-dc69712bac26\">\n",
              "  <button class=\"colab-df-quickchart\" onclick=\"quickchart('df-fa9b40e5-315b-45b8-8932-dc69712bac26')\"\n",
              "            title=\"Suggest charts\"\n",
              "            style=\"display:none;\">\n",
              "\n",
              "<svg xmlns=\"http://www.w3.org/2000/svg\" height=\"24px\"viewBox=\"0 0 24 24\"\n",
              "     width=\"24px\">\n",
              "    <g>\n",
              "        <path d=\"M19 3H5c-1.1 0-2 .9-2 2v14c0 1.1.9 2 2 2h14c1.1 0 2-.9 2-2V5c0-1.1-.9-2-2-2zM9 17H7v-7h2v7zm4 0h-2V7h2v10zm4 0h-2v-4h2v4z\"/>\n",
              "    </g>\n",
              "</svg>\n",
              "  </button>\n",
              "\n",
              "<style>\n",
              "  .colab-df-quickchart {\n",
              "      --bg-color: #E8F0FE;\n",
              "      --fill-color: #1967D2;\n",
              "      --hover-bg-color: #E2EBFA;\n",
              "      --hover-fill-color: #174EA6;\n",
              "      --disabled-fill-color: #AAA;\n",
              "      --disabled-bg-color: #DDD;\n",
              "  }\n",
              "\n",
              "  [theme=dark] .colab-df-quickchart {\n",
              "      --bg-color: #3B4455;\n",
              "      --fill-color: #D2E3FC;\n",
              "      --hover-bg-color: #434B5C;\n",
              "      --hover-fill-color: #FFFFFF;\n",
              "      --disabled-bg-color: #3B4455;\n",
              "      --disabled-fill-color: #666;\n",
              "  }\n",
              "\n",
              "  .colab-df-quickchart {\n",
              "    background-color: var(--bg-color);\n",
              "    border: none;\n",
              "    border-radius: 50%;\n",
              "    cursor: pointer;\n",
              "    display: none;\n",
              "    fill: var(--fill-color);\n",
              "    height: 32px;\n",
              "    padding: 0;\n",
              "    width: 32px;\n",
              "  }\n",
              "\n",
              "  .colab-df-quickchart:hover {\n",
              "    background-color: var(--hover-bg-color);\n",
              "    box-shadow: 0 1px 2px rgba(60, 64, 67, 0.3), 0 1px 3px 1px rgba(60, 64, 67, 0.15);\n",
              "    fill: var(--button-hover-fill-color);\n",
              "  }\n",
              "\n",
              "  .colab-df-quickchart-complete:disabled,\n",
              "  .colab-df-quickchart-complete:disabled:hover {\n",
              "    background-color: var(--disabled-bg-color);\n",
              "    fill: var(--disabled-fill-color);\n",
              "    box-shadow: none;\n",
              "  }\n",
              "\n",
              "  .colab-df-spinner {\n",
              "    border: 2px solid var(--fill-color);\n",
              "    border-color: transparent;\n",
              "    border-bottom-color: var(--fill-color);\n",
              "    animation:\n",
              "      spin 1s steps(1) infinite;\n",
              "  }\n",
              "\n",
              "  @keyframes spin {\n",
              "    0% {\n",
              "      border-color: transparent;\n",
              "      border-bottom-color: var(--fill-color);\n",
              "      border-left-color: var(--fill-color);\n",
              "    }\n",
              "    20% {\n",
              "      border-color: transparent;\n",
              "      border-left-color: var(--fill-color);\n",
              "      border-top-color: var(--fill-color);\n",
              "    }\n",
              "    30% {\n",
              "      border-color: transparent;\n",
              "      border-left-color: var(--fill-color);\n",
              "      border-top-color: var(--fill-color);\n",
              "      border-right-color: var(--fill-color);\n",
              "    }\n",
              "    40% {\n",
              "      border-color: transparent;\n",
              "      border-right-color: var(--fill-color);\n",
              "      border-top-color: var(--fill-color);\n",
              "    }\n",
              "    60% {\n",
              "      border-color: transparent;\n",
              "      border-right-color: var(--fill-color);\n",
              "    }\n",
              "    80% {\n",
              "      border-color: transparent;\n",
              "      border-right-color: var(--fill-color);\n",
              "      border-bottom-color: var(--fill-color);\n",
              "    }\n",
              "    90% {\n",
              "      border-color: transparent;\n",
              "      border-bottom-color: var(--fill-color);\n",
              "    }\n",
              "  }\n",
              "</style>\n",
              "\n",
              "  <script>\n",
              "    async function quickchart(key) {\n",
              "      const quickchartButtonEl =\n",
              "        document.querySelector('#' + key + ' button');\n",
              "      quickchartButtonEl.disabled = true;  // To prevent multiple clicks.\n",
              "      quickchartButtonEl.classList.add('colab-df-spinner');\n",
              "      try {\n",
              "        const charts = await google.colab.kernel.invokeFunction(\n",
              "            'suggestCharts', [key], {});\n",
              "      } catch (error) {\n",
              "        console.error('Error during call to suggestCharts:', error);\n",
              "      }\n",
              "      quickchartButtonEl.classList.remove('colab-df-spinner');\n",
              "      quickchartButtonEl.classList.add('colab-df-quickchart-complete');\n",
              "    }\n",
              "    (() => {\n",
              "      let quickchartButtonEl =\n",
              "        document.querySelector('#df-fa9b40e5-315b-45b8-8932-dc69712bac26 button');\n",
              "      quickchartButtonEl.style.display =\n",
              "        google.colab.kernel.accessAllowed ? 'block' : 'none';\n",
              "    })();\n",
              "  </script>\n",
              "</div>\n",
              "\n",
              "    </div>\n",
              "  </div>\n"
            ],
            "text/plain": [
              "       LoanID  Age  Income  LoanAmount  CreditScore  MonthsEmployed  \\\n",
              "0  I38PQUQS96   56   85994       50587          520              80   \n",
              "1  HPSK72WA7R   69   50432      124440          458              15   \n",
              "2  C1OZ6DPJ8Y   46   84208      129188          451              26   \n",
              "3  V2KKSFM3UN   32   31713       44799          743               0   \n",
              "4  EY08JDHTZP   60   20437        9139          633               8   \n",
              "\n",
              "   NumCreditLines  InterestRate  LoanTerm  DTIRatio    Education  \\\n",
              "0               4         15.23        36      0.44   Bachelor's   \n",
              "1               1          4.81        60      0.68     Master's   \n",
              "2               3         21.17        24      0.31     Master's   \n",
              "3               3          7.07        24      0.23  High School   \n",
              "4               4          6.51        48      0.73   Bachelor's   \n",
              "\n",
              "  EmploymentType MaritalStatus HasMortgage HasDependents LoanPurpose  \\\n",
              "0      Full-time      Divorced         Yes           Yes       Other   \n",
              "1      Full-time       Married          No            No       Other   \n",
              "2     Unemployed      Divorced         Yes           Yes        Auto   \n",
              "3      Full-time       Married          No            No    Business   \n",
              "4     Unemployed      Divorced          No           Yes        Auto   \n",
              "\n",
              "  HasCoSigner  Default  \n",
              "0         Yes        0  \n",
              "1         Yes        0  \n",
              "2          No        1  \n",
              "3          No        0  \n",
              "4          No        0  "
            ]
          },
          "execution_count": 159,
          "metadata": {},
          "output_type": "execute_result"
        }
      ],
      "source": [
        "df.head()"
      ]
    },
    {
      "cell_type": "code",
      "execution_count": null,
      "metadata": {
        "id": "jVj6D3_XUrLO"
      },
      "outputs": [],
      "source": [
        "# Checking multiple rows\n",
        "assert df['LoanID'].nunique() == len(df) # Df is a at single row level ."
      ]
    },
    {
      "cell_type": "code",
      "execution_count": null,
      "metadata": {
        "colab": {
          "base_uri": "https://localhost:8080/"
        },
        "id": "jC80LXRipeJm",
        "outputId": "535f264a-1286-4478-a71e-2cc4a3d8a514"
      },
      "outputs": [
        {
          "data": {
            "text/plain": [
              "Index(['LoanID', 'Age', 'Income', 'LoanAmount', 'CreditScore',\n",
              "       'MonthsEmployed', 'NumCreditLines', 'InterestRate', 'LoanTerm',\n",
              "       'DTIRatio', 'Education', 'EmploymentType', 'MaritalStatus',\n",
              "       'HasMortgage', 'HasDependents', 'LoanPurpose', 'HasCoSigner',\n",
              "       'Default'],\n",
              "      dtype='object')"
            ]
          },
          "execution_count": 161,
          "metadata": {},
          "output_type": "execute_result"
        }
      ],
      "source": [
        "df.columns"
      ]
    },
    {
      "cell_type": "code",
      "execution_count": null,
      "metadata": {
        "colab": {
          "base_uri": "https://localhost:8080/"
        },
        "id": "MW5_70GVEkN2",
        "outputId": "2f131016-0534-483a-f57d-df6049d4952e"
      },
      "outputs": [
        {
          "data": {
            "text/plain": [
              "(255347, 18)"
            ]
          },
          "execution_count": 162,
          "metadata": {},
          "output_type": "execute_result"
        }
      ],
      "source": [
        "df.shape"
      ]
    },
    {
      "cell_type": "code",
      "execution_count": null,
      "metadata": {
        "colab": {
          "base_uri": "https://localhost:8080/",
          "height": 613
        },
        "id": "Qow0JOvCEqDb",
        "outputId": "f973e156-eb33-4c1e-c8d2-aca4568cf4ed"
      },
      "outputs": [
        {
          "data": {
            "application/vnd.google.colaboratory.intrinsic+json": {
              "type": "dataframe",
              "variable_name": "df"
            },
            "text/html": [
              "\n",
              "  <div id=\"df-d61ba448-6fb8-4680-99af-34d8b7fbf3e7\" class=\"colab-df-container\">\n",
              "    <div>\n",
              "<style scoped>\n",
              "    .dataframe tbody tr th:only-of-type {\n",
              "        vertical-align: middle;\n",
              "    }\n",
              "\n",
              "    .dataframe tbody tr th {\n",
              "        vertical-align: top;\n",
              "    }\n",
              "\n",
              "    .dataframe thead th {\n",
              "        text-align: right;\n",
              "    }\n",
              "</style>\n",
              "<table border=\"1\" class=\"dataframe\">\n",
              "  <thead>\n",
              "    <tr style=\"text-align: right;\">\n",
              "      <th></th>\n",
              "      <th>0</th>\n",
              "      <th>1</th>\n",
              "      <th>2</th>\n",
              "      <th>3</th>\n",
              "      <th>4</th>\n",
              "    </tr>\n",
              "  </thead>\n",
              "  <tbody>\n",
              "    <tr>\n",
              "      <th>LoanID</th>\n",
              "      <td>I38PQUQS96</td>\n",
              "      <td>HPSK72WA7R</td>\n",
              "      <td>C1OZ6DPJ8Y</td>\n",
              "      <td>V2KKSFM3UN</td>\n",
              "      <td>EY08JDHTZP</td>\n",
              "    </tr>\n",
              "    <tr>\n",
              "      <th>Age</th>\n",
              "      <td>56</td>\n",
              "      <td>69</td>\n",
              "      <td>46</td>\n",
              "      <td>32</td>\n",
              "      <td>60</td>\n",
              "    </tr>\n",
              "    <tr>\n",
              "      <th>Income</th>\n",
              "      <td>85994</td>\n",
              "      <td>50432</td>\n",
              "      <td>84208</td>\n",
              "      <td>31713</td>\n",
              "      <td>20437</td>\n",
              "    </tr>\n",
              "    <tr>\n",
              "      <th>LoanAmount</th>\n",
              "      <td>50587</td>\n",
              "      <td>124440</td>\n",
              "      <td>129188</td>\n",
              "      <td>44799</td>\n",
              "      <td>9139</td>\n",
              "    </tr>\n",
              "    <tr>\n",
              "      <th>CreditScore</th>\n",
              "      <td>520</td>\n",
              "      <td>458</td>\n",
              "      <td>451</td>\n",
              "      <td>743</td>\n",
              "      <td>633</td>\n",
              "    </tr>\n",
              "    <tr>\n",
              "      <th>MonthsEmployed</th>\n",
              "      <td>80</td>\n",
              "      <td>15</td>\n",
              "      <td>26</td>\n",
              "      <td>0</td>\n",
              "      <td>8</td>\n",
              "    </tr>\n",
              "    <tr>\n",
              "      <th>NumCreditLines</th>\n",
              "      <td>4</td>\n",
              "      <td>1</td>\n",
              "      <td>3</td>\n",
              "      <td>3</td>\n",
              "      <td>4</td>\n",
              "    </tr>\n",
              "    <tr>\n",
              "      <th>InterestRate</th>\n",
              "      <td>15.23</td>\n",
              "      <td>4.81</td>\n",
              "      <td>21.17</td>\n",
              "      <td>7.07</td>\n",
              "      <td>6.51</td>\n",
              "    </tr>\n",
              "    <tr>\n",
              "      <th>LoanTerm</th>\n",
              "      <td>36</td>\n",
              "      <td>60</td>\n",
              "      <td>24</td>\n",
              "      <td>24</td>\n",
              "      <td>48</td>\n",
              "    </tr>\n",
              "    <tr>\n",
              "      <th>DTIRatio</th>\n",
              "      <td>0.44</td>\n",
              "      <td>0.68</td>\n",
              "      <td>0.31</td>\n",
              "      <td>0.23</td>\n",
              "      <td>0.73</td>\n",
              "    </tr>\n",
              "    <tr>\n",
              "      <th>Education</th>\n",
              "      <td>Bachelor's</td>\n",
              "      <td>Master's</td>\n",
              "      <td>Master's</td>\n",
              "      <td>High School</td>\n",
              "      <td>Bachelor's</td>\n",
              "    </tr>\n",
              "    <tr>\n",
              "      <th>EmploymentType</th>\n",
              "      <td>Full-time</td>\n",
              "      <td>Full-time</td>\n",
              "      <td>Unemployed</td>\n",
              "      <td>Full-time</td>\n",
              "      <td>Unemployed</td>\n",
              "    </tr>\n",
              "    <tr>\n",
              "      <th>MaritalStatus</th>\n",
              "      <td>Divorced</td>\n",
              "      <td>Married</td>\n",
              "      <td>Divorced</td>\n",
              "      <td>Married</td>\n",
              "      <td>Divorced</td>\n",
              "    </tr>\n",
              "    <tr>\n",
              "      <th>HasMortgage</th>\n",
              "      <td>Yes</td>\n",
              "      <td>No</td>\n",
              "      <td>Yes</td>\n",
              "      <td>No</td>\n",
              "      <td>No</td>\n",
              "    </tr>\n",
              "    <tr>\n",
              "      <th>HasDependents</th>\n",
              "      <td>Yes</td>\n",
              "      <td>No</td>\n",
              "      <td>Yes</td>\n",
              "      <td>No</td>\n",
              "      <td>Yes</td>\n",
              "    </tr>\n",
              "    <tr>\n",
              "      <th>LoanPurpose</th>\n",
              "      <td>Other</td>\n",
              "      <td>Other</td>\n",
              "      <td>Auto</td>\n",
              "      <td>Business</td>\n",
              "      <td>Auto</td>\n",
              "    </tr>\n",
              "    <tr>\n",
              "      <th>HasCoSigner</th>\n",
              "      <td>Yes</td>\n",
              "      <td>Yes</td>\n",
              "      <td>No</td>\n",
              "      <td>No</td>\n",
              "      <td>No</td>\n",
              "    </tr>\n",
              "    <tr>\n",
              "      <th>Default</th>\n",
              "      <td>0</td>\n",
              "      <td>0</td>\n",
              "      <td>1</td>\n",
              "      <td>0</td>\n",
              "      <td>0</td>\n",
              "    </tr>\n",
              "  </tbody>\n",
              "</table>\n",
              "</div>\n",
              "    <div class=\"colab-df-buttons\">\n",
              "\n",
              "  <div class=\"colab-df-container\">\n",
              "    <button class=\"colab-df-convert\" onclick=\"convertToInteractive('df-d61ba448-6fb8-4680-99af-34d8b7fbf3e7')\"\n",
              "            title=\"Convert this dataframe to an interactive table.\"\n",
              "            style=\"display:none;\">\n",
              "\n",
              "  <svg xmlns=\"http://www.w3.org/2000/svg\" height=\"24px\" viewBox=\"0 -960 960 960\">\n",
              "    <path d=\"M120-120v-720h720v720H120Zm60-500h600v-160H180v160Zm220 220h160v-160H400v160Zm0 220h160v-160H400v160ZM180-400h160v-160H180v160Zm440 0h160v-160H620v160ZM180-180h160v-160H180v160Zm440 0h160v-160H620v160Z\"/>\n",
              "  </svg>\n",
              "    </button>\n",
              "\n",
              "  <style>\n",
              "    .colab-df-container {\n",
              "      display:flex;\n",
              "      gap: 12px;\n",
              "    }\n",
              "\n",
              "    .colab-df-convert {\n",
              "      background-color: #E8F0FE;\n",
              "      border: none;\n",
              "      border-radius: 50%;\n",
              "      cursor: pointer;\n",
              "      display: none;\n",
              "      fill: #1967D2;\n",
              "      height: 32px;\n",
              "      padding: 0 0 0 0;\n",
              "      width: 32px;\n",
              "    }\n",
              "\n",
              "    .colab-df-convert:hover {\n",
              "      background-color: #E2EBFA;\n",
              "      box-shadow: 0px 1px 2px rgba(60, 64, 67, 0.3), 0px 1px 3px 1px rgba(60, 64, 67, 0.15);\n",
              "      fill: #174EA6;\n",
              "    }\n",
              "\n",
              "    .colab-df-buttons div {\n",
              "      margin-bottom: 4px;\n",
              "    }\n",
              "\n",
              "    [theme=dark] .colab-df-convert {\n",
              "      background-color: #3B4455;\n",
              "      fill: #D2E3FC;\n",
              "    }\n",
              "\n",
              "    [theme=dark] .colab-df-convert:hover {\n",
              "      background-color: #434B5C;\n",
              "      box-shadow: 0px 1px 3px 1px rgba(0, 0, 0, 0.15);\n",
              "      filter: drop-shadow(0px 1px 2px rgba(0, 0, 0, 0.3));\n",
              "      fill: #FFFFFF;\n",
              "    }\n",
              "  </style>\n",
              "\n",
              "    <script>\n",
              "      const buttonEl =\n",
              "        document.querySelector('#df-d61ba448-6fb8-4680-99af-34d8b7fbf3e7 button.colab-df-convert');\n",
              "      buttonEl.style.display =\n",
              "        google.colab.kernel.accessAllowed ? 'block' : 'none';\n",
              "\n",
              "      async function convertToInteractive(key) {\n",
              "        const element = document.querySelector('#df-d61ba448-6fb8-4680-99af-34d8b7fbf3e7');\n",
              "        const dataTable =\n",
              "          await google.colab.kernel.invokeFunction('convertToInteractive',\n",
              "                                                    [key], {});\n",
              "        if (!dataTable) return;\n",
              "\n",
              "        const docLinkHtml = 'Like what you see? Visit the ' +\n",
              "          '<a target=\"_blank\" href=https://colab.research.google.com/notebooks/data_table.ipynb>data table notebook</a>'\n",
              "          + ' to learn more about interactive tables.';\n",
              "        element.innerHTML = '';\n",
              "        dataTable['output_type'] = 'display_data';\n",
              "        await google.colab.output.renderOutput(dataTable, element);\n",
              "        const docLink = document.createElement('div');\n",
              "        docLink.innerHTML = docLinkHtml;\n",
              "        element.appendChild(docLink);\n",
              "      }\n",
              "    </script>\n",
              "  </div>\n",
              "\n",
              "\n",
              "<div id=\"df-d52638a9-9875-4b6e-a697-0bd32f604236\">\n",
              "  <button class=\"colab-df-quickchart\" onclick=\"quickchart('df-d52638a9-9875-4b6e-a697-0bd32f604236')\"\n",
              "            title=\"Suggest charts\"\n",
              "            style=\"display:none;\">\n",
              "\n",
              "<svg xmlns=\"http://www.w3.org/2000/svg\" height=\"24px\"viewBox=\"0 0 24 24\"\n",
              "     width=\"24px\">\n",
              "    <g>\n",
              "        <path d=\"M19 3H5c-1.1 0-2 .9-2 2v14c0 1.1.9 2 2 2h14c1.1 0 2-.9 2-2V5c0-1.1-.9-2-2-2zM9 17H7v-7h2v7zm4 0h-2V7h2v10zm4 0h-2v-4h2v4z\"/>\n",
              "    </g>\n",
              "</svg>\n",
              "  </button>\n",
              "\n",
              "<style>\n",
              "  .colab-df-quickchart {\n",
              "      --bg-color: #E8F0FE;\n",
              "      --fill-color: #1967D2;\n",
              "      --hover-bg-color: #E2EBFA;\n",
              "      --hover-fill-color: #174EA6;\n",
              "      --disabled-fill-color: #AAA;\n",
              "      --disabled-bg-color: #DDD;\n",
              "  }\n",
              "\n",
              "  [theme=dark] .colab-df-quickchart {\n",
              "      --bg-color: #3B4455;\n",
              "      --fill-color: #D2E3FC;\n",
              "      --hover-bg-color: #434B5C;\n",
              "      --hover-fill-color: #FFFFFF;\n",
              "      --disabled-bg-color: #3B4455;\n",
              "      --disabled-fill-color: #666;\n",
              "  }\n",
              "\n",
              "  .colab-df-quickchart {\n",
              "    background-color: var(--bg-color);\n",
              "    border: none;\n",
              "    border-radius: 50%;\n",
              "    cursor: pointer;\n",
              "    display: none;\n",
              "    fill: var(--fill-color);\n",
              "    height: 32px;\n",
              "    padding: 0;\n",
              "    width: 32px;\n",
              "  }\n",
              "\n",
              "  .colab-df-quickchart:hover {\n",
              "    background-color: var(--hover-bg-color);\n",
              "    box-shadow: 0 1px 2px rgba(60, 64, 67, 0.3), 0 1px 3px 1px rgba(60, 64, 67, 0.15);\n",
              "    fill: var(--button-hover-fill-color);\n",
              "  }\n",
              "\n",
              "  .colab-df-quickchart-complete:disabled,\n",
              "  .colab-df-quickchart-complete:disabled:hover {\n",
              "    background-color: var(--disabled-bg-color);\n",
              "    fill: var(--disabled-fill-color);\n",
              "    box-shadow: none;\n",
              "  }\n",
              "\n",
              "  .colab-df-spinner {\n",
              "    border: 2px solid var(--fill-color);\n",
              "    border-color: transparent;\n",
              "    border-bottom-color: var(--fill-color);\n",
              "    animation:\n",
              "      spin 1s steps(1) infinite;\n",
              "  }\n",
              "\n",
              "  @keyframes spin {\n",
              "    0% {\n",
              "      border-color: transparent;\n",
              "      border-bottom-color: var(--fill-color);\n",
              "      border-left-color: var(--fill-color);\n",
              "    }\n",
              "    20% {\n",
              "      border-color: transparent;\n",
              "      border-left-color: var(--fill-color);\n",
              "      border-top-color: var(--fill-color);\n",
              "    }\n",
              "    30% {\n",
              "      border-color: transparent;\n",
              "      border-left-color: var(--fill-color);\n",
              "      border-top-color: var(--fill-color);\n",
              "      border-right-color: var(--fill-color);\n",
              "    }\n",
              "    40% {\n",
              "      border-color: transparent;\n",
              "      border-right-color: var(--fill-color);\n",
              "      border-top-color: var(--fill-color);\n",
              "    }\n",
              "    60% {\n",
              "      border-color: transparent;\n",
              "      border-right-color: var(--fill-color);\n",
              "    }\n",
              "    80% {\n",
              "      border-color: transparent;\n",
              "      border-right-color: var(--fill-color);\n",
              "      border-bottom-color: var(--fill-color);\n",
              "    }\n",
              "    90% {\n",
              "      border-color: transparent;\n",
              "      border-bottom-color: var(--fill-color);\n",
              "    }\n",
              "  }\n",
              "</style>\n",
              "\n",
              "  <script>\n",
              "    async function quickchart(key) {\n",
              "      const quickchartButtonEl =\n",
              "        document.querySelector('#' + key + ' button');\n",
              "      quickchartButtonEl.disabled = true;  // To prevent multiple clicks.\n",
              "      quickchartButtonEl.classList.add('colab-df-spinner');\n",
              "      try {\n",
              "        const charts = await google.colab.kernel.invokeFunction(\n",
              "            'suggestCharts', [key], {});\n",
              "      } catch (error) {\n",
              "        console.error('Error during call to suggestCharts:', error);\n",
              "      }\n",
              "      quickchartButtonEl.classList.remove('colab-df-spinner');\n",
              "      quickchartButtonEl.classList.add('colab-df-quickchart-complete');\n",
              "    }\n",
              "    (() => {\n",
              "      let quickchartButtonEl =\n",
              "        document.querySelector('#df-d52638a9-9875-4b6e-a697-0bd32f604236 button');\n",
              "      quickchartButtonEl.style.display =\n",
              "        google.colab.kernel.accessAllowed ? 'block' : 'none';\n",
              "    })();\n",
              "  </script>\n",
              "</div>\n",
              "\n",
              "    </div>\n",
              "  </div>\n"
            ],
            "text/plain": [
              "                         0           1           2            3           4\n",
              "LoanID          I38PQUQS96  HPSK72WA7R  C1OZ6DPJ8Y   V2KKSFM3UN  EY08JDHTZP\n",
              "Age                     56          69          46           32          60\n",
              "Income               85994       50432       84208        31713       20437\n",
              "LoanAmount           50587      124440      129188        44799        9139\n",
              "CreditScore            520         458         451          743         633\n",
              "MonthsEmployed          80          15          26            0           8\n",
              "NumCreditLines           4           1           3            3           4\n",
              "InterestRate         15.23        4.81       21.17         7.07        6.51\n",
              "LoanTerm                36          60          24           24          48\n",
              "DTIRatio              0.44        0.68        0.31         0.23        0.73\n",
              "Education       Bachelor's    Master's    Master's  High School  Bachelor's\n",
              "EmploymentType   Full-time   Full-time  Unemployed    Full-time  Unemployed\n",
              "MaritalStatus     Divorced     Married    Divorced      Married    Divorced\n",
              "HasMortgage            Yes          No         Yes           No          No\n",
              "HasDependents          Yes          No         Yes           No         Yes\n",
              "LoanPurpose          Other       Other        Auto     Business        Auto\n",
              "HasCoSigner            Yes         Yes          No           No          No\n",
              "Default                  0           0           1            0           0"
            ]
          },
          "execution_count": 163,
          "metadata": {},
          "output_type": "execute_result"
        }
      ],
      "source": [
        "df.head().T"
      ]
    },
    {
      "cell_type": "markdown",
      "metadata": {
        "id": "KdKlkX0aXLxn"
      },
      "source": [
        "**---------------------Analysing Target Variable---------------------**\n",
        "\n",
        "1.   List item\n",
        "2.   List item\n",
        "\n"
      ]
    },
    {
      "cell_type": "markdown",
      "metadata": {
        "id": "wawqOTkQXv9G"
      },
      "source": []
    },
    {
      "cell_type": "code",
      "execution_count": null,
      "metadata": {
        "colab": {
          "base_uri": "https://localhost:8080/",
          "height": 466
        },
        "id": "o9ngjFgfE08g",
        "outputId": "ebb6319e-c5ee-4322-cfa6-f3bed4cbb38a"
      },
      "outputs": [
        {
          "data": {
            "text/plain": [
              "<Axes: xlabel='Default', ylabel='count'>"
            ]
          },
          "execution_count": 164,
          "metadata": {},
          "output_type": "execute_result"
        },
        {
          "data": {
            "image/png": "[encoded data removed]",
            "text/plain": [
              "<Figure size 640x480 with 1 Axes>"
            ]
          },
          "metadata": {},
          "output_type": "display_data"
        }
      ],
      "source": [
        "sns.countplot(x=\"Default\",data=df) # Use Pie Chart to represent %s"
      ]
    },
    {
      "cell_type": "code",
      "execution_count": null,
      "metadata": {
        "colab": {
          "base_uri": "https://localhost:8080/"
        },
        "id": "5ZgIs72XG23v",
        "outputId": "1732728d-1829-4c95-9825-bc39a2b338e7"
      },
      "outputs": [
        {
          "data": {
            "text/plain": [
              "Default\n",
              "0    88.387175\n",
              "1    11.612825\n",
              "Name: count, dtype: float64"
            ]
          },
          "execution_count": 165,
          "metadata": {},
          "output_type": "execute_result"
        }
      ],
      "source": [
        "df['Default'].value_counts()*100/len(df)"
      ]
    },
    {
      "cell_type": "markdown",
      "metadata": {
        "id": "x-vssuZTHnai"
      },
      "source": [
        "considering 0 for no and 1 for yes , i.e.  1 represent defaulter and 0 means non-defaulter"
      ]
    },
    {
      "cell_type": "code",
      "execution_count": null,
      "metadata": {
        "colab": {
          "base_uri": "https://localhost:8080/",
          "height": 363
        },
        "id": "7gn_r36IHYNn",
        "outputId": "9daf93a8-b69f-469d-9565-be2cd0575e89"
      },
      "outputs": [
        {
          "data": {
            "application/vnd.google.colaboratory.intrinsic+json": {
              "summary": "{\n  \"name\": \"df\",\n  \"rows\": 10,\n  \"fields\": [\n    {\n      \"column\": \"count\",\n      \"properties\": {\n        \"dtype\": \"number\",\n        \"std\": 0.0,\n        \"min\": 255347.0,\n        \"max\": 255347.0,\n        \"num_unique_values\": 1,\n        \"samples\": [\n          255347.0\n        ],\n        \"semantic_type\": \"\",\n        \"description\": \"\"\n      }\n    },\n    {\n      \"column\": \"mean\",\n      \"properties\": {\n        \"dtype\": \"number\",\n        \"std\": 45508.0370565285,\n        \"min\": 0.11612824901017048,\n        \"max\": 127578.86551242035,\n        \"num_unique_values\": 10,\n        \"samples\": [\n          0.5002120643673119\n        ],\n        \"semantic_type\": \"\",\n        \"description\": \"\"\n      }\n    },\n    {\n      \"column\": \"std\",\n      \"properties\": {\n        \"dtype\": \"number\",\n        \"std\": 24325.851044322862,\n        \"min\": 0.23091661543575948,\n        \"max\": 70840.70614150059,\n        \"num_unique_values\": 10,\n        \"samples\": [\n          0.23091661543575948\n        ],\n        \"semantic_type\": \"\",\n        \"description\": \"\"\n      }\n    },\n    {\n      \"column\": \"min\",\n      \"properties\": {\n        \"dtype\": \"number\",\n        \"std\": 4816.026225576897,\n        \"min\": 0.0,\n        \"max\": 15000.0,\n        \"num_unique_values\": 9,\n        \"samples\": [\n          12.0\n        ],\n        \"semantic_type\": \"\",\n        \"description\": \"\"\n      }\n    },\n    {\n      \"column\": \"25%\",\n      \"properties\": {\n        \"dtype\": \"number\",\n        \"std\": 24554.70258490533,\n        \"min\": 0.0,\n        \"max\": 66156.0,\n        \"num_unique_values\": 10,\n        \"samples\": [\n          0.3\n        ],\n        \"semantic_type\": \"\",\n        \"description\": \"\"\n      }\n    },\n    {\n      \"column\": \"50%\",\n      \"properties\": {\n        \"dtype\": \"number\",\n        \"std\": 45497.14763260738,\n        \"min\": 0.0,\n        \"max\": 127556.0,\n        \"num_unique_values\": 10,\n        \"samples\": [\n          0.5\n        ],\n        \"semantic_type\": \"\",\n        \"description\": \"\"\n      }\n    },\n    {\n      \"column\": \"75%\",\n      \"properties\": {\n        \"dtype\": \"number\",\n        \"std\": 66542.3580573409,\n        \"min\": 0.0,\n        \"max\": 188985.0,\n        \"num_unique_values\": 10,\n        \"samples\": [\n          0.7\n        ],\n        \"semantic_type\": \"\",\n        \"description\": \"\"\n      }\n    },\n    {\n      \"column\": \"max\",\n      \"properties\": {\n        \"dtype\": \"number\",\n        \"std\": 87502.2191481952,\n        \"min\": 0.9,\n        \"max\": 249999.0,\n        \"num_unique_values\": 10,\n        \"samples\": [\n          0.9\n        ],\n        \"semantic_type\": \"\",\n        \"description\": \"\"\n      }\n    }\n  ]\n}",
              "type": "dataframe"
            },
            "text/html": [
              "\n",
              "  <div id=\"df-7c9d60f8-5fdc-4e7f-8bd0-1ec2454aee52\" class=\"colab-df-container\">\n",
              "    <div>\n",
              "<style scoped>\n",
              "    .dataframe tbody tr th:only-of-type {\n",
              "        vertical-align: middle;\n",
              "    }\n",
              "\n",
              "    .dataframe tbody tr th {\n",
              "        vertical-align: top;\n",
              "    }\n",
              "\n",
              "    .dataframe thead th {\n",
              "        text-align: right;\n",
              "    }\n",
              "</style>\n",
              "<table border=\"1\" class=\"dataframe\">\n",
              "  <thead>\n",
              "    <tr style=\"text-align: right;\">\n",
              "      <th></th>\n",
              "      <th>count</th>\n",
              "      <th>mean</th>\n",
              "      <th>std</th>\n",
              "      <th>min</th>\n",
              "      <th>25%</th>\n",
              "      <th>50%</th>\n",
              "      <th>75%</th>\n",
              "      <th>max</th>\n",
              "    </tr>\n",
              "  </thead>\n",
              "  <tbody>\n",
              "    <tr>\n",
              "      <th>Age</th>\n",
              "      <td>255347.0</td>\n",
              "      <td>43.498306</td>\n",
              "      <td>14.990258</td>\n",
              "      <td>18.0</td>\n",
              "      <td>31.00</td>\n",
              "      <td>43.00</td>\n",
              "      <td>56.00</td>\n",
              "      <td>69.0</td>\n",
              "    </tr>\n",
              "    <tr>\n",
              "      <th>Income</th>\n",
              "      <td>255347.0</td>\n",
              "      <td>82499.304597</td>\n",
              "      <td>38963.013729</td>\n",
              "      <td>15000.0</td>\n",
              "      <td>48825.50</td>\n",
              "      <td>82466.00</td>\n",
              "      <td>116219.00</td>\n",
              "      <td>149999.0</td>\n",
              "    </tr>\n",
              "    <tr>\n",
              "      <th>LoanAmount</th>\n",
              "      <td>255347.0</td>\n",
              "      <td>127578.865512</td>\n",
              "      <td>70840.706142</td>\n",
              "      <td>5000.0</td>\n",
              "      <td>66156.00</td>\n",
              "      <td>127556.00</td>\n",
              "      <td>188985.00</td>\n",
              "      <td>249999.0</td>\n",
              "    </tr>\n",
              "    <tr>\n",
              "      <th>CreditScore</th>\n",
              "      <td>255347.0</td>\n",
              "      <td>574.264346</td>\n",
              "      <td>158.903867</td>\n",
              "      <td>300.0</td>\n",
              "      <td>437.00</td>\n",
              "      <td>574.00</td>\n",
              "      <td>712.00</td>\n",
              "      <td>849.0</td>\n",
              "    </tr>\n",
              "    <tr>\n",
              "      <th>MonthsEmployed</th>\n",
              "      <td>255347.0</td>\n",
              "      <td>59.541976</td>\n",
              "      <td>34.643376</td>\n",
              "      <td>0.0</td>\n",
              "      <td>30.00</td>\n",
              "      <td>60.00</td>\n",
              "      <td>90.00</td>\n",
              "      <td>119.0</td>\n",
              "    </tr>\n",
              "    <tr>\n",
              "      <th>NumCreditLines</th>\n",
              "      <td>255347.0</td>\n",
              "      <td>2.501036</td>\n",
              "      <td>1.117018</td>\n",
              "      <td>1.0</td>\n",
              "      <td>2.00</td>\n",
              "      <td>2.00</td>\n",
              "      <td>3.00</td>\n",
              "      <td>4.0</td>\n",
              "    </tr>\n",
              "    <tr>\n",
              "      <th>InterestRate</th>\n",
              "      <td>255347.0</td>\n",
              "      <td>13.492773</td>\n",
              "      <td>6.636443</td>\n",
              "      <td>2.0</td>\n",
              "      <td>7.77</td>\n",
              "      <td>13.46</td>\n",
              "      <td>19.25</td>\n",
              "      <td>25.0</td>\n",
              "    </tr>\n",
              "    <tr>\n",
              "      <th>LoanTerm</th>\n",
              "      <td>255347.0</td>\n",
              "      <td>36.025894</td>\n",
              "      <td>16.969330</td>\n",
              "      <td>12.0</td>\n",
              "      <td>24.00</td>\n",
              "      <td>36.00</td>\n",
              "      <td>48.00</td>\n",
              "      <td>60.0</td>\n",
              "    </tr>\n",
              "    <tr>\n",
              "      <th>DTIRatio</th>\n",
              "      <td>255347.0</td>\n",
              "      <td>0.500212</td>\n",
              "      <td>0.230917</td>\n",
              "      <td>0.1</td>\n",
              "      <td>0.30</td>\n",
              "      <td>0.50</td>\n",
              "      <td>0.70</td>\n",
              "      <td>0.9</td>\n",
              "    </tr>\n",
              "    <tr>\n",
              "      <th>Default</th>\n",
              "      <td>255347.0</td>\n",
              "      <td>0.116128</td>\n",
              "      <td>0.320379</td>\n",
              "      <td>0.0</td>\n",
              "      <td>0.00</td>\n",
              "      <td>0.00</td>\n",
              "      <td>0.00</td>\n",
              "      <td>1.0</td>\n",
              "    </tr>\n",
              "  </tbody>\n",
              "</table>\n",
              "</div>\n",
              "    <div class=\"colab-df-buttons\">\n",
              "\n",
              "  <div class=\"colab-df-container\">\n",
              "    <button class=\"colab-df-convert\" onclick=\"convertToInteractive('df-7c9d60f8-5fdc-4e7f-8bd0-1ec2454aee52')\"\n",
              "            title=\"Convert this dataframe to an interactive table.\"\n",
              "            style=\"display:none;\">\n",
              "\n",
              "  <svg xmlns=\"http://www.w3.org/2000/svg\" height=\"24px\" viewBox=\"0 -960 960 960\">\n",
              "    <path d=\"M120-120v-720h720v720H120Zm60-500h600v-160H180v160Zm220 220h160v-160H400v160Zm0 220h160v-160H400v160ZM180-400h160v-160H180v160Zm440 0h160v-160H620v160ZM180-180h160v-160H180v160Zm440 0h160v-160H620v160Z\"/>\n",
              "  </svg>\n",
              "    </button>\n",
              "\n",
              "  <style>\n",
              "    .colab-df-container {\n",
              "      display:flex;\n",
              "      gap: 12px;\n",
              "    }\n",
              "\n",
              "    .colab-df-convert {\n",
              "      background-color: #E8F0FE;\n",
              "      border: none;\n",
              "      border-radius: 50%;\n",
              "      cursor: pointer;\n",
              "      display: none;\n",
              "      fill: #1967D2;\n",
              "      height: 32px;\n",
              "      padding: 0 0 0 0;\n",
              "      width: 32px;\n",
              "    }\n",
              "\n",
              "    .colab-df-convert:hover {\n",
              "      background-color: #E2EBFA;\n",
              "      box-shadow: 0px 1px 2px rgba(60, 64, 67, 0.3), 0px 1px 3px 1px rgba(60, 64, 67, 0.15);\n",
              "      fill: #174EA6;\n",
              "    }\n",
              "\n",
              "    .colab-df-buttons div {\n",
              "      margin-bottom: 4px;\n",
              "    }\n",
              "\n",
              "    [theme=dark] .colab-df-convert {\n",
              "      background-color: #3B4455;\n",
              "      fill: #D2E3FC;\n",
              "    }\n",
              "\n",
              "    [theme=dark] .colab-df-convert:hover {\n",
              "      background-color: #434B5C;\n",
              "      box-shadow: 0px 1px 3px 1px rgba(0, 0, 0, 0.15);\n",
              "      filter: drop-shadow(0px 1px 2px rgba(0, 0, 0, 0.3));\n",
              "      fill: #FFFFFF;\n",
              "    }\n",
              "  </style>\n",
              "\n",
              "    <script>\n",
              "      const buttonEl =\n",
              "        document.querySelector('#df-7c9d60f8-5fdc-4e7f-8bd0-1ec2454aee52 button.colab-df-convert');\n",
              "      buttonEl.style.display =\n",
              "        google.colab.kernel.accessAllowed ? 'block' : 'none';\n",
              "\n",
              "      async function convertToInteractive(key) {\n",
              "        const element = document.querySelector('#df-7c9d60f8-5fdc-4e7f-8bd0-1ec2454aee52');\n",
              "        const dataTable =\n",
              "          await google.colab.kernel.invokeFunction('convertToInteractive',\n",
              "                                                    [key], {});\n",
              "        if (!dataTable) return;\n",
              "\n",
              "        const docLinkHtml = 'Like what you see? Visit the ' +\n",
              "          '<a target=\"_blank\" href=https://colab.research.google.com/notebooks/data_table.ipynb>data table notebook</a>'\n",
              "          + ' to learn more about interactive tables.';\n",
              "        element.innerHTML = '';\n",
              "        dataTable['output_type'] = 'display_data';\n",
              "        await google.colab.output.renderOutput(dataTable, element);\n",
              "        const docLink = document.createElement('div');\n",
              "        docLink.innerHTML = docLinkHtml;\n",
              "        element.appendChild(docLink);\n",
              "      }\n",
              "    </script>\n",
              "  </div>\n",
              "\n",
              "\n",
              "<div id=\"df-9a01714b-9ca3-486c-9374-bf059544b93f\">\n",
              "  <button class=\"colab-df-quickchart\" onclick=\"quickchart('df-9a01714b-9ca3-486c-9374-bf059544b93f')\"\n",
              "            title=\"Suggest charts\"\n",
              "            style=\"display:none;\">\n",
              "\n",
              "<svg xmlns=\"http://www.w3.org/2000/svg\" height=\"24px\"viewBox=\"0 0 24 24\"\n",
              "     width=\"24px\">\n",
              "    <g>\n",
              "        <path d=\"M19 3H5c-1.1 0-2 .9-2 2v14c0 1.1.9 2 2 2h14c1.1 0 2-.9 2-2V5c0-1.1-.9-2-2-2zM9 17H7v-7h2v7zm4 0h-2V7h2v10zm4 0h-2v-4h2v4z\"/>\n",
              "    </g>\n",
              "</svg>\n",
              "  </button>\n",
              "\n",
              "<style>\n",
              "  .colab-df-quickchart {\n",
              "      --bg-color: #E8F0FE;\n",
              "      --fill-color: #1967D2;\n",
              "      --hover-bg-color: #E2EBFA;\n",
              "      --hover-fill-color: #174EA6;\n",
              "      --disabled-fill-color: #AAA;\n",
              "      --disabled-bg-color: #DDD;\n",
              "  }\n",
              "\n",
              "  [theme=dark] .colab-df-quickchart {\n",
              "      --bg-color: #3B4455;\n",
              "      --fill-color: #D2E3FC;\n",
              "      --hover-bg-color: #434B5C;\n",
              "      --hover-fill-color: #FFFFFF;\n",
              "      --disabled-bg-color: #3B4455;\n",
              "      --disabled-fill-color: #666;\n",
              "  }\n",
              "\n",
              "  .colab-df-quickchart {\n",
              "    background-color: var(--bg-color);\n",
              "    border: none;\n",
              "    border-radius: 50%;\n",
              "    cursor: pointer;\n",
              "    display: none;\n",
              "    fill: var(--fill-color);\n",
              "    height: 32px;\n",
              "    padding: 0;\n",
              "    width: 32px;\n",
              "  }\n",
              "\n",
              "  .colab-df-quickchart:hover {\n",
              "    background-color: var(--hover-bg-color);\n",
              "    box-shadow: 0 1px 2px rgba(60, 64, 67, 0.3), 0 1px 3px 1px rgba(60, 64, 67, 0.15);\n",
              "    fill: var(--button-hover-fill-color);\n",
              "  }\n",
              "\n",
              "  .colab-df-quickchart-complete:disabled,\n",
              "  .colab-df-quickchart-complete:disabled:hover {\n",
              "    background-color: var(--disabled-bg-color);\n",
              "    fill: var(--disabled-fill-color);\n",
              "    box-shadow: none;\n",
              "  }\n",
              "\n",
              "  .colab-df-spinner {\n",
              "    border: 2px solid var(--fill-color);\n",
              "    border-color: transparent;\n",
              "    border-bottom-color: var(--fill-color);\n",
              "    animation:\n",
              "      spin 1s steps(1) infinite;\n",
              "  }\n",
              "\n",
              "  @keyframes spin {\n",
              "    0% {\n",
              "      border-color: transparent;\n",
              "      border-bottom-color: var(--fill-color);\n",
              "      border-left-color: var(--fill-color);\n",
              "    }\n",
              "    20% {\n",
              "      border-color: transparent;\n",
              "      border-left-color: var(--fill-color);\n",
              "      border-top-color: var(--fill-color);\n",
              "    }\n",
              "    30% {\n",
              "      border-color: transparent;\n",
              "      border-left-color: var(--fill-color);\n",
              "      border-top-color: var(--fill-color);\n",
              "      border-right-color: var(--fill-color);\n",
              "    }\n",
              "    40% {\n",
              "      border-color: transparent;\n",
              "      border-right-color: var(--fill-color);\n",
              "      border-top-color: var(--fill-color);\n",
              "    }\n",
              "    60% {\n",
              "      border-color: transparent;\n",
              "      border-right-color: var(--fill-color);\n",
              "    }\n",
              "    80% {\n",
              "      border-color: transparent;\n",
              "      border-right-color: var(--fill-color);\n",
              "      border-bottom-color: var(--fill-color);\n",
              "    }\n",
              "    90% {\n",
              "      border-color: transparent;\n",
              "      border-bottom-color: var(--fill-color);\n",
              "    }\n",
              "  }\n",
              "</style>\n",
              "\n",
              "  <script>\n",
              "    async function quickchart(key) {\n",
              "      const quickchartButtonEl =\n",
              "        document.querySelector('#' + key + ' button');\n",
              "      quickchartButtonEl.disabled = true;  // To prevent multiple clicks.\n",
              "      quickchartButtonEl.classList.add('colab-df-spinner');\n",
              "      try {\n",
              "        const charts = await google.colab.kernel.invokeFunction(\n",
              "            'suggestCharts', [key], {});\n",
              "      } catch (error) {\n",
              "        console.error('Error during call to suggestCharts:', error);\n",
              "      }\n",
              "      quickchartButtonEl.classList.remove('colab-df-spinner');\n",
              "      quickchartButtonEl.classList.add('colab-df-quickchart-complete');\n",
              "    }\n",
              "    (() => {\n",
              "      let quickchartButtonEl =\n",
              "        document.querySelector('#df-9a01714b-9ca3-486c-9374-bf059544b93f button');\n",
              "      quickchartButtonEl.style.display =\n",
              "        google.colab.kernel.accessAllowed ? 'block' : 'none';\n",
              "    })();\n",
              "  </script>\n",
              "</div>\n",
              "\n",
              "    </div>\n",
              "  </div>\n"
            ],
            "text/plain": [
              "                   count           mean           std      min       25%  \\\n",
              "Age             255347.0      43.498306     14.990258     18.0     31.00   \n",
              "Income          255347.0   82499.304597  38963.013729  15000.0  48825.50   \n",
              "LoanAmount      255347.0  127578.865512  70840.706142   5000.0  66156.00   \n",
              "CreditScore     255347.0     574.264346    158.903867    300.0    437.00   \n",
              "MonthsEmployed  255347.0      59.541976     34.643376      0.0     30.00   \n",
              "NumCreditLines  255347.0       2.501036      1.117018      1.0      2.00   \n",
              "InterestRate    255347.0      13.492773      6.636443      2.0      7.77   \n",
              "LoanTerm        255347.0      36.025894     16.969330     12.0     24.00   \n",
              "DTIRatio        255347.0       0.500212      0.230917      0.1      0.30   \n",
              "Default         255347.0       0.116128      0.320379      0.0      0.00   \n",
              "\n",
              "                      50%        75%       max  \n",
              "Age                 43.00      56.00      69.0  \n",
              "Income           82466.00  116219.00  149999.0  \n",
              "LoanAmount      127556.00  188985.00  249999.0  \n",
              "CreditScore        574.00     712.00     849.0  \n",
              "MonthsEmployed      60.00      90.00     119.0  \n",
              "NumCreditLines       2.00       3.00       4.0  \n",
              "InterestRate        13.46      19.25      25.0  \n",
              "LoanTerm            36.00      48.00      60.0  \n",
              "DTIRatio             0.50       0.70       0.9  \n",
              "Default              0.00       0.00       1.0  "
            ]
          },
          "execution_count": 166,
          "metadata": {},
          "output_type": "execute_result"
        }
      ],
      "source": [
        "df.describe().T"
      ]
    },
    {
      "cell_type": "markdown",
      "metadata": {
        "id": "eP4Nt723J0-H"
      },
      "source": [
        "Nearly 80-20 ratio so highy imbalanced dataset , as model will get biased , thus will resolve this while splitting train and test."
      ]
    },
    {
      "cell_type": "markdown",
      "metadata": {
        "id": "WZ-9rEbyhmSR"
      },
      "source": [
        "**---------------------Analysing Independent Variables---------------------**"
      ]
    },
    {
      "cell_type": "code",
      "execution_count": null,
      "metadata": {
        "colab": {
          "base_uri": "https://localhost:8080/",
          "height": 405
        },
        "id": "yzJhHa9F0JXS",
        "outputId": "056ef9ec-73b7-4bd7-fc05-deecd6c638a0"
      },
      "outputs": [
        {
          "data": {
            "text/plain": [
              "<Axes: xlabel='LoanAmount', ylabel='Count'>"
            ]
          },
          "execution_count": 167,
          "metadata": {},
          "output_type": "execute_result"
        },
        {
          "data": {
            "image/png": "[encoded data removed]",
            "text/plain": [
              "<Figure size 1200x400 with 1 Axes>"
            ]
          },
          "metadata": {},
          "output_type": "display_data"
        }
      ],
      "source": [
        "plt.figure(figsize=(12,4))\n",
        "sns.histplot(df['LoanAmount'],bins=40)\n",
        "\n",
        "## Bin the loan amount using pd.cut(). Create 10 bins and then do barplot"
      ]
    },
    {
      "cell_type": "markdown",
      "metadata": {
        "id": "0JWexOZohRrw"
      },
      "source": [
        "data point with credit loan amount 800000 is an outlier."
      ]
    },
    {
      "cell_type": "code",
      "execution_count": null,
      "metadata": {
        "colab": {
          "base_uri": "https://localhost:8080/"
        },
        "id": "xRQ-SvIrALbs",
        "outputId": "36166f55-deab-44fd-c72e-f90ae2e03da3"
      },
      "outputs": [
        {
          "data": {
            "text/plain": [
              "550"
            ]
          },
          "execution_count": 168,
          "metadata": {},
          "output_type": "execute_result"
        }
      ],
      "source": [
        "df['CreditScore'].nunique()"
      ]
    },
    {
      "cell_type": "code",
      "execution_count": null,
      "metadata": {
        "colab": {
          "base_uri": "https://localhost:8080/",
          "height": 410
        },
        "id": "q4EDAgK_E5e5",
        "outputId": "ed24163c-1b90-49d0-ea1c-5ff153bcd462"
      },
      "outputs": [
        {
          "data": {
            "text/plain": [
              "<Axes: xlabel='CreditScore', ylabel='Count'>"
            ]
          },
          "execution_count": 169,
          "metadata": {},
          "output_type": "execute_result"
        },
        {
          "data": {
            "image/png": "[encoded data removed]",
            "text/plain": [
              "<Figure size 1200x400 with 1 Axes>"
            ]
          },
          "metadata": {},
          "output_type": "display_data"
        }
      ],
      "source": [
        "plt.figure(figsize=(12,4))\n",
        "sns.histplot(df['CreditScore'],bins=40)\n",
        "\n",
        "## Do a correlation matrix or A pairplot to analyse let's say Age and Income vs Credit Score"
      ]
    },
    {
      "cell_type": "code",
      "execution_count": null,
      "metadata": {
        "colab": {
          "base_uri": "https://localhost:8080/"
        },
        "id": "mH6w46QcBGbv",
        "outputId": "c6d92ee0-0735-4257-9b75-84e88ff95d40"
      },
      "outputs": [
        {
          "data": {
            "text/plain": [
              "52"
            ]
          },
          "execution_count": 170,
          "metadata": {},
          "output_type": "execute_result"
        }
      ],
      "source": [
        "df['Age'].nunique()"
      ]
    },
    {
      "cell_type": "code",
      "execution_count": null,
      "metadata": {
        "colab": {
          "base_uri": "https://localhost:8080/",
          "height": 405
        },
        "id": "syZGjGKLBJvy",
        "outputId": "7abe2a9f-ce3d-4c05-dafc-c4aeb53e2ca5"
      },
      "outputs": [
        {
          "data": {
            "text/plain": [
              "<Axes: xlabel='Age', ylabel='Count'>"
            ]
          },
          "execution_count": 171,
          "metadata": {},
          "output_type": "execute_result"
        },
        {
          "data": {
            "image/png": "[encoded data removed]",
            "text/plain": [
              "<Figure size 1200x400 with 1 Axes>"
            ]
          },
          "metadata": {},
          "output_type": "display_data"
        }
      ],
      "source": [
        "plt.figure(figsize=(12,4))\n",
        "sns.histplot(df['Age'],bins=40)"
      ]
    },
    {
      "cell_type": "code",
      "execution_count": null,
      "metadata": {
        "colab": {
          "base_uri": "https://localhost:8080/"
        },
        "id": "iI_i6VYVBbx_",
        "outputId": "f6a1ca3a-d57f-4484-f08c-ad2719964a7d"
      },
      "outputs": [
        {
          "data": {
            "text/plain": [
              "4"
            ]
          },
          "execution_count": 172,
          "metadata": {},
          "output_type": "execute_result"
        }
      ],
      "source": [
        "df['NumCreditLines'].nunique()"
      ]
    },
    {
      "cell_type": "code",
      "execution_count": null,
      "metadata": {
        "colab": {
          "base_uri": "https://localhost:8080/",
          "height": 477
        },
        "id": "VTyYLw_sCVtI",
        "outputId": "7ef88aae-7dc8-4407-9fda-c77bba5db3f7"
      },
      "outputs": [
        {
          "ename": "KeyError",
          "evalue": "'Years in current job'",
          "output_type": "error",
          "traceback": [
            "\u001b[0;31m---------------------------------------------------------------------------\u001b[0m",
            "\u001b[0;31mKeyError\u001b[0m                                  Traceback (most recent call last)",
            "\u001b[0;32m/usr/local/lib/python3.10/dist-packages/pandas/core/indexes/base.py\u001b[0m in \u001b[0;36mget_loc\u001b[0;34m(self, key)\u001b[0m\n\u001b[1;32m   3652\u001b[0m         \u001b[0;32mtry\u001b[0m\u001b[0;34m:\u001b[0m\u001b[0;34m\u001b[0m\u001b[0;34m\u001b[0m\u001b[0m\n\u001b[0;32m-> 3653\u001b[0;31m             \u001b[0;32mreturn\u001b[0m \u001b[0mself\u001b[0m\u001b[0;34m.\u001b[0m\u001b[0m_engine\u001b[0m\u001b[0;34m.\u001b[0m\u001b[0mget_loc\u001b[0m\u001b[0;34m(\u001b[0m\u001b[0mcasted_key\u001b[0m\u001b[0;34m)\u001b[0m\u001b[0;34m\u001b[0m\u001b[0;34m\u001b[0m\u001b[0m\n\u001b[0m\u001b[1;32m   3654\u001b[0m         \u001b[0;32mexcept\u001b[0m \u001b[0mKeyError\u001b[0m \u001b[0;32mas\u001b[0m \u001b[0merr\u001b[0m\u001b[0;34m:\u001b[0m\u001b[0;34m\u001b[0m\u001b[0;34m\u001b[0m\u001b[0m\n",
            "\u001b[0;32m/usr/local/lib/python3.10/dist-packages/pandas/_libs/index.pyx\u001b[0m in \u001b[0;36mpandas._libs.index.IndexEngine.get_loc\u001b[0;34m()\u001b[0m\n",
            "\u001b[0;32m/usr/local/lib/python3.10/dist-packages/pandas/_libs/index.pyx\u001b[0m in \u001b[0;36mpandas._libs.index.IndexEngine.get_loc\u001b[0;34m()\u001b[0m\n",
            "\u001b[0;32mpandas/_libs/hashtable_class_helper.pxi\u001b[0m in \u001b[0;36mpandas._libs.hashtable.PyObjectHashTable.get_item\u001b[0;34m()\u001b[0m\n",
            "\u001b[0;32mpandas/_libs/hashtable_class_helper.pxi\u001b[0m in \u001b[0;36mpandas._libs.hashtable.PyObjectHashTable.get_item\u001b[0;34m()\u001b[0m\n",
            "\u001b[0;31mKeyError\u001b[0m: 'Years in current job'",
            "\nThe above exception was the direct cause of the following exception:\n",
            "\u001b[0;31mKeyError\u001b[0m                                  Traceback (most recent call last)",
            "\u001b[0;32m<ipython-input-173-f98d6a53023c>\u001b[0m in \u001b[0;36m<cell line: 1>\u001b[0;34m()\u001b[0m\n\u001b[0;32m----> 1\u001b[0;31m \u001b[0mdf\u001b[0m\u001b[0;34m[\u001b[0m\u001b[0;34m'Years in current job'\u001b[0m\u001b[0;34m]\u001b[0m\u001b[0;34m.\u001b[0m\u001b[0mvalue_counts\u001b[0m\u001b[0;34m(\u001b[0m\u001b[0;34m)\u001b[0m\u001b[0;34m\u001b[0m\u001b[0;34m\u001b[0m\u001b[0m\n\u001b[0m",
            "\u001b[0;32m/usr/local/lib/python3.10/dist-packages/pandas/core/frame.py\u001b[0m in \u001b[0;36m__getitem__\u001b[0;34m(self, key)\u001b[0m\n\u001b[1;32m   3759\u001b[0m             \u001b[0;32mif\u001b[0m \u001b[0mself\u001b[0m\u001b[0;34m.\u001b[0m\u001b[0mcolumns\u001b[0m\u001b[0;34m.\u001b[0m\u001b[0mnlevels\u001b[0m \u001b[0;34m>\u001b[0m \u001b[0;36m1\u001b[0m\u001b[0;34m:\u001b[0m\u001b[0;34m\u001b[0m\u001b[0;34m\u001b[0m\u001b[0m\n\u001b[1;32m   3760\u001b[0m                 \u001b[0;32mreturn\u001b[0m \u001b[0mself\u001b[0m\u001b[0;34m.\u001b[0m\u001b[0m_getitem_multilevel\u001b[0m\u001b[0;34m(\u001b[0m\u001b[0mkey\u001b[0m\u001b[0;34m)\u001b[0m\u001b[0;34m\u001b[0m\u001b[0;34m\u001b[0m\u001b[0m\n\u001b[0;32m-> 3761\u001b[0;31m             \u001b[0mindexer\u001b[0m \u001b[0;34m=\u001b[0m \u001b[0mself\u001b[0m\u001b[0;34m.\u001b[0m\u001b[0mcolumns\u001b[0m\u001b[0;34m.\u001b[0m\u001b[0mget_loc\u001b[0m\u001b[0;34m(\u001b[0m\u001b[0mkey\u001b[0m\u001b[0;34m)\u001b[0m\u001b[0;34m\u001b[0m\u001b[0;34m\u001b[0m\u001b[0m\n\u001b[0m\u001b[1;32m   3762\u001b[0m             \u001b[0;32mif\u001b[0m \u001b[0mis_integer\u001b[0m\u001b[0;34m(\u001b[0m\u001b[0mindexer\u001b[0m\u001b[0;34m)\u001b[0m\u001b[0;34m:\u001b[0m\u001b[0;34m\u001b[0m\u001b[0;34m\u001b[0m\u001b[0m\n\u001b[1;32m   3763\u001b[0m                 \u001b[0mindexer\u001b[0m \u001b[0;34m=\u001b[0m \u001b[0;34m[\u001b[0m\u001b[0mindexer\u001b[0m\u001b[0;34m]\u001b[0m\u001b[0;34m\u001b[0m\u001b[0;34m\u001b[0m\u001b[0m\n",
            "\u001b[0;32m/usr/local/lib/python3.10/dist-packages/pandas/core/indexes/base.py\u001b[0m in \u001b[0;36mget_loc\u001b[0;34m(self, key)\u001b[0m\n\u001b[1;32m   3653\u001b[0m             \u001b[0;32mreturn\u001b[0m \u001b[0mself\u001b[0m\u001b[0;34m.\u001b[0m\u001b[0m_engine\u001b[0m\u001b[0;34m.\u001b[0m\u001b[0mget_loc\u001b[0m\u001b[0;34m(\u001b[0m\u001b[0mcasted_key\u001b[0m\u001b[0;34m)\u001b[0m\u001b[0;34m\u001b[0m\u001b[0;34m\u001b[0m\u001b[0m\n\u001b[1;32m   3654\u001b[0m         \u001b[0;32mexcept\u001b[0m \u001b[0mKeyError\u001b[0m \u001b[0;32mas\u001b[0m \u001b[0merr\u001b[0m\u001b[0;34m:\u001b[0m\u001b[0;34m\u001b[0m\u001b[0;34m\u001b[0m\u001b[0m\n\u001b[0;32m-> 3655\u001b[0;31m             \u001b[0;32mraise\u001b[0m \u001b[0mKeyError\u001b[0m\u001b[0;34m(\u001b[0m\u001b[0mkey\u001b[0m\u001b[0;34m)\u001b[0m \u001b[0;32mfrom\u001b[0m \u001b[0merr\u001b[0m\u001b[0;34m\u001b[0m\u001b[0;34m\u001b[0m\u001b[0m\n\u001b[0m\u001b[1;32m   3656\u001b[0m         \u001b[0;32mexcept\u001b[0m \u001b[0mTypeError\u001b[0m\u001b[0;34m:\u001b[0m\u001b[0;34m\u001b[0m\u001b[0;34m\u001b[0m\u001b[0m\n\u001b[1;32m   3657\u001b[0m             \u001b[0;31m# If we have a listlike key, _check_indexing_error will raise\u001b[0m\u001b[0;34m\u001b[0m\u001b[0;34m\u001b[0m\u001b[0m\n",
            "\u001b[0;31mKeyError\u001b[0m: 'Years in current job'"
          ]
        }
      ],
      "source": [
        "df['Years in current job'].value_counts()"
      ]
    },
    {
      "cell_type": "code",
      "execution_count": null,
      "metadata": {
        "id": "Rn7nUTVmBtbf"
      },
      "outputs": [],
      "source": [
        "sns.countplot(x=\"NumCreditLines\",data=df)"
      ]
    },
    {
      "cell_type": "code",
      "execution_count": null,
      "metadata": {
        "id": "J2k8x6hXHitR"
      },
      "outputs": [],
      "source": [
        "sns.countplot(x=\"Years in current job\",hue='Defaulter',data=df)"
      ]
    },
    {
      "cell_type": "code",
      "execution_count": null,
      "metadata": {
        "id": "NKvLrt_-FTwk"
      },
      "outputs": [],
      "source": [
        "df['Monthly Debt'].nunique()"
      ]
    },
    {
      "cell_type": "code",
      "execution_count": null,
      "metadata": {
        "id": "MmK_OfuEFZVv"
      },
      "outputs": [],
      "source": [
        "plt.figure(figsize=(12,4))\n",
        "sns.histplot(df['Monthly Debt'],bins=40)"
      ]
    },
    {
      "cell_type": "code",
      "execution_count": null,
      "metadata": {
        "id": "KFbxjeUIFi6e"
      },
      "outputs": [],
      "source": [
        "df['Years of Credit History'].nunique()"
      ]
    },
    {
      "cell_type": "code",
      "execution_count": null,
      "metadata": {
        "id": "7ceowqyjFoFj"
      },
      "outputs": [],
      "source": [
        "plt.figure(figsize=(12,4))\n",
        "sns.histplot(df['Years of Credit History'],bins=40)"
      ]
    },
    {
      "cell_type": "code",
      "execution_count": null,
      "metadata": {
        "id": "US9RUT2oF4l5"
      },
      "outputs": [],
      "source": [
        "df['Months since last delinquent'].nunique()"
      ]
    },
    {
      "cell_type": "code",
      "execution_count": null,
      "metadata": {
        "id": "OyF2rRlAF6Qu"
      },
      "outputs": [],
      "source": [
        "plt.figure(figsize=(12,4))\n",
        "sns.histplot(df['Months since last delinquent'],bins=40)"
      ]
    },
    {
      "cell_type": "code",
      "execution_count": null,
      "metadata": {
        "id": "GFMBGbABGEk9"
      },
      "outputs": [],
      "source": [
        "df['Number of Open Accounts'].value_counts()"
      ]
    },
    {
      "cell_type": "code",
      "execution_count": null,
      "metadata": {
        "id": "eqCjfs8FGEWm"
      },
      "outputs": [],
      "source": [
        "plt.figure(figsize=(12,4))\n",
        "sns.histplot(df['Number of Open Accounts'],bins=40)"
      ]
    },
    {
      "cell_type": "code",
      "execution_count": null,
      "metadata": {
        "id": "HZ5Rszw4Ji8E"
      },
      "outputs": [],
      "source": [
        "df['Number of Credit Problems'].nunique()"
      ]
    },
    {
      "cell_type": "code",
      "execution_count": null,
      "metadata": {
        "id": "lf5f00OMGfEC"
      },
      "outputs": [],
      "source": [
        "df['Number of Credit Problems'].value_counts()"
      ]
    },
    {
      "cell_type": "code",
      "execution_count": null,
      "metadata": {
        "id": "ipFf36neG1SQ"
      },
      "outputs": [],
      "source": [
        "sns.countplot(x=\"Number of Credit Problems\",data=df)"
      ]
    },
    {
      "cell_type": "code",
      "execution_count": null,
      "metadata": {
        "id": "tqD2lOHPHZm4"
      },
      "outputs": [],
      "source": [
        "sns.countplot(x=\"Number of Credit Problems\",hue='Defaulter',data=df)"
      ]
    },
    {
      "cell_type": "code",
      "execution_count": null,
      "metadata": {
        "id": "l-WpIMvaH9K0"
      },
      "outputs": [],
      "source": [
        "df['Current Credit Balance'].nunique()"
      ]
    },
    {
      "cell_type": "code",
      "execution_count": null,
      "metadata": {
        "id": "XZoUqD7oILy4"
      },
      "outputs": [],
      "source": [
        "plt.figure(figsize=(12,4))\n",
        "sns.histplot(df['Current Credit Balance'],bins=40)"
      ]
    },
    {
      "cell_type": "code",
      "execution_count": null,
      "metadata": {
        "id": "DRroFhB1MS5P"
      },
      "outputs": [],
      "source": [
        "df['Maximum Open Credit'].nunique()"
      ]
    },
    {
      "cell_type": "code",
      "execution_count": null,
      "metadata": {
        "id": "9VNRp497JHrm"
      },
      "outputs": [],
      "source": [
        "plt.figure(figsize=(12,4))\n",
        "sns.histplot(df['Maximum Open Credit'],bins=40)"
      ]
    },
    {
      "cell_type": "code",
      "execution_count": null,
      "metadata": {
        "id": "8Q53A2sHI95Z"
      },
      "outputs": [],
      "source": [
        "df['Bankruptcies'].nunique()"
      ]
    },
    {
      "cell_type": "code",
      "execution_count": null,
      "metadata": {
        "id": "bfunLijVJ5ae"
      },
      "outputs": [],
      "source": [
        "df['Bankruptcies'].value_counts()"
      ]
    },
    {
      "cell_type": "code",
      "execution_count": null,
      "metadata": {
        "id": "8nQSWnYyJ9Sf"
      },
      "outputs": [],
      "source": [
        "sns.countplot(x=\"Bankruptcies\",data=df)"
      ]
    },
    {
      "cell_type": "code",
      "execution_count": null,
      "metadata": {
        "id": "HbRcX88AKb1_"
      },
      "outputs": [],
      "source": [
        "sns.countplot(x=\"Bankruptcies\",hue=\"Defaulter\",data=df)"
      ]
    },
    {
      "cell_type": "code",
      "execution_count": null,
      "metadata": {
        "id": "eHGMGoXlKuJ7"
      },
      "outputs": [],
      "source": [
        "df['Tax Liens'].nunique()"
      ]
    },
    {
      "cell_type": "code",
      "execution_count": null,
      "metadata": {
        "id": "i_w8AynzLFBR"
      },
      "outputs": [],
      "source": [
        "df['Tax Liens'].value_counts()"
      ]
    },
    {
      "cell_type": "markdown",
      "metadata": {
        "id": "BZnxvC1rLIl8"
      },
      "source": [
        "Now variables Term,Home Ownership and Purpose have been into dummy variables as :\n",
        "\n",
        "Term (Short Term, Long Term)\n",
        "\n",
        "Home Ownership(Home Mortgage,Own Home,Own Home ,Rent ,Loan)\n",
        "\n",
        "Purpose (Business Loan,Buy House,Buy a Car\n",
        "Debt Consolidation,Educational Expenses,Home Improvements,Medical,Bills,Other ,\n",
        "\n",
        "moving,renewable_energy,vacation,wedding)"
      ]
    },
    {
      "cell_type": "code",
      "execution_count": null,
      "metadata": {
        "id": "nmnWs1lXMgtq"
      },
      "outputs": [],
      "source": [
        "df['Term_Long Term'].value_counts()"
      ]
    },
    {
      "cell_type": "markdown",
      "metadata": {
        "id": "q3vEtiVeNhBi"
      },
      "source": [
        "Considering 1 represents yes and 0 represents No, Thus 33 people have taken long_term_loan and rest 90 have taken short_term_loan"
      ]
    },
    {
      "cell_type": "code",
      "execution_count": null,
      "metadata": {
        "id": "cFtM5oFUMq3Q"
      },
      "outputs": [],
      "source": [
        "df['Term_Short Term'].value_counts()"
      ]
    },
    {
      "cell_type": "code",
      "execution_count": null,
      "metadata": {
        "id": "J9ezHtGNMuPT"
      },
      "outputs": [],
      "source": [
        "labels = ['Long Term', 'Short Term']\n",
        "data = [33,90]\n",
        "# exhaustive set thus not , also clearly can be seen by -1 correlation coefficient of these 2\n",
        "\n",
        "fig = plt.figure(figsize =(10, 7))\n",
        "plt.pie(data, labels = labels)\n",
        "plt.show()"
      ]
    },
    {
      "cell_type": "code",
      "execution_count": null,
      "metadata": {
        "id": "rUxDf_jEPjyd"
      },
      "outputs": [],
      "source": [
        "df['LoanPurpose'].value_counts()"
      ]
    },
    {
      "cell_type": "code",
      "execution_count": null,
      "metadata": {
        "id": "ufJfmmkMPqwQ"
      },
      "outputs": [],
      "source": [
        "labels = ['Business', 'Home','Education','Other','Auto']\n",
        "data = [51298,51286,51005,50914,50844]\n",
        "\n",
        "fig = plt.figure(figsize =(10, 7))\n",
        "plt.pie(data, labels = labels)\n",
        "plt.show()"
      ]
    },
    {
      "cell_type": "code",
      "execution_count": null,
      "metadata": {
        "id": "EtOkY6dEPrN0"
      },
      "outputs": [],
      "source": [
        "df['Home Ownership_Rent'].value_counts()"
      ]
    },
    {
      "cell_type": "markdown",
      "metadata": {
        "id": "QdgGOwuGP_8w"
      },
      "source": [
        "Thus 71, 6 and 46 people have Home Ownership as Home Moratgage,Own Home and Rent respectively."
      ]
    },
    {
      "cell_type": "code",
      "execution_count": null,
      "metadata": {
        "id": "v_ctNqlOQWxc"
      },
      "outputs": [],
      "source": []
    },
    {
      "cell_type": "code",
      "execution_count": null,
      "metadata": {
        "id": "7xCdq_ZZQp03"
      },
      "outputs": [],
      "source": [
        "df['Purpose_Business Loan'].value_counts()"
      ]
    },
    {
      "cell_type": "code",
      "execution_count": null,
      "metadata": {
        "id": "fp1sFpxSQxS_"
      },
      "outputs": [],
      "source": [
        "df['Purpose_Buy House'].value_counts()"
      ]
    },
    {
      "cell_type": "code",
      "execution_count": null,
      "metadata": {
        "id": "98mlf23yQyoB"
      },
      "outputs": [],
      "source": [
        "df['Purpose_Buy a Car'].value_counts()"
      ]
    },
    {
      "cell_type": "code",
      "execution_count": null,
      "metadata": {
        "id": "KoUXN3nCQ10f"
      },
      "outputs": [],
      "source": [
        "df['Purpose_Debt Consolidation'].value_counts()"
      ]
    },
    {
      "cell_type": "code",
      "execution_count": null,
      "metadata": {
        "id": "4r9-Vpm4Q1sW"
      },
      "outputs": [],
      "source": [
        "df['Purpose_Educational Expenses'].value_counts()"
      ]
    },
    {
      "cell_type": "code",
      "execution_count": null,
      "metadata": {
        "id": "Vf_rtA2qQ1gI"
      },
      "outputs": [],
      "source": [
        "df['Purpose_Home Improvements'].value_counts()"
      ]
    },
    {
      "cell_type": "code",
      "execution_count": null,
      "metadata": {
        "id": "yCg4NH5YQ1KO"
      },
      "outputs": [],
      "source": [
        "df['Purpose_Medical Bills'].value_counts()"
      ]
    },
    {
      "cell_type": "code",
      "execution_count": null,
      "metadata": {
        "id": "hJKZ90TqQygX"
      },
      "outputs": [],
      "source": [
        "df['Purpose_Other'].value_counts()"
      ]
    },
    {
      "cell_type": "code",
      "execution_count": null,
      "metadata": {
        "id": "3XNXGrx7QyYh"
      },
      "outputs": [],
      "source": [
        "df['Purpose_moving'].value_counts()"
      ]
    },
    {
      "cell_type": "code",
      "execution_count": null,
      "metadata": {
        "id": "AxK1xxKWQyPL"
      },
      "outputs": [],
      "source": [
        "df['Purpose_renewable_energy'].value_counts()"
      ]
    },
    {
      "cell_type": "code",
      "execution_count": null,
      "metadata": {
        "id": "uStpSTUaQx61"
      },
      "outputs": [],
      "source": [
        "df['Purpose_vacation'].value_counts()"
      ]
    },
    {
      "cell_type": "code",
      "execution_count": null,
      "metadata": {
        "id": "PtmE1o-sQxuG"
      },
      "outputs": [],
      "source": [
        "df['Purpose_wedding'].value_counts()"
      ]
    },
    {
      "cell_type": "markdown",
      "metadata": {
        "id": "GRVpyPYNRxsA"
      },
      "source": [
        "Thus 3,1,1,90,0,7,3,16,0,0,1,1 people have metnioned purpose of loan as Business Loan,Buy House,Buy a Car,Debt Consolidation,Educational Expenses,Home Improvement,Medical Bills,Other,\n",
        ",renewable_energy,vacation,wedding\n",
        "respectively"
      ]
    },
    {
      "cell_type": "code",
      "execution_count": null,
      "metadata": {
        "id": "b9EdXmCxRdcv"
      },
      "outputs": [],
      "source": [
        "labels = ['Business Loan','Buy House','Buy a Car','Debt Consolidation','Educational Expenses','Home Improvements','Medical Bills','Other','moving','vacation','wedding','renewable_energy']\n",
        "data = [3,1,1,90,0,7,3,16,0,1,1,0]\n",
        "\n",
        "fig = plt.figure(figsize =(15,15))\n",
        "plt.pie(data,labels = labels)\n",
        "plt.show()"
      ]
    },
    {
      "cell_type": "markdown",
      "metadata": {
        "id": "8nw4fOxHHwlV"
      },
      "source": [
        "**--------------------------------Exploring relationship between the independent and target varaibles--------------------------------**"
      ]
    },
    {
      "cell_type": "markdown",
      "metadata": {
        "id": "QQcnEPwzSIM6"
      },
      "source": []
    },
    {
      "cell_type": "code",
      "execution_count": null,
      "metadata": {
        "id": "Nx4_i5IvSU92"
      },
      "outputs": [],
      "source": [
        "import pandas as pd\n",
        "\n",
        "# # Sample DataFrame\n",
        "# data = {'LoanPurpose': ['Business', 'Home', 'Education', 'Other', 'Auto', 'Business', 'Home']}\n",
        "# df = pd.DataFrame(data)\n",
        "\n",
        "# Use get_dummies to convert categorical column to binary columns\n",
        "loan_dummies = pd.get_dummies(df['LoanPurpose'], prefix='LoanPurpose')\n",
        "\n",
        "# Concatenate the dummy columns with the original DataFrame\n",
        "df = pd.concat([df, loan_dummies], axis=1)\n",
        "\n",
        "# Drop the original 'LoanPurpose' column if needed\n",
        "df.drop('LoanPurpose', axis=1, inplace=True)\n",
        "\n",
        "print(df)"
      ]
    },
    {
      "cell_type": "code",
      "execution_count": null,
      "metadata": {
        "id": "2Nf5ccfdndDh"
      },
      "outputs": [],
      "source": [
        "from scipy.stats import pointbiserialr\n",
        "r_pb, p_pb = pointbiserialr(df['Default'], df['LoanPurpose'].map({'Business':0, 'Home':1, 'Education':2, 'Other':3, 'Auto':4}))\n",
        "print(f\"Point-Biserial Correlation: {r_pb:.2f}, p-value: {p_pb:.4f}\")"
      ]
    },
    {
      "cell_type": "code",
      "execution_count": null,
      "metadata": {
        "id": "lsg71yLlr6Y7"
      },
      "outputs": [],
      "source": [
        "# Select numeric columns for correlation calculation\n",
        "numeric_columns = df.select_dtypes(include=['number']).columns\n",
        "\n",
        "# Calculate correlation matrix\n",
        "correlation_matrix = df[numeric_columns].corr()['Default'].sort_values(ascending=False)\n",
        "\n",
        "print(correlation_matrix)"
      ]
    },
    {
      "cell_type": "code",
      "execution_count": null,
      "metadata": {
        "id": "ZnxfiWUltMoO"
      },
      "outputs": [],
      "source": [
        "import pandas as pd\n",
        "from scipy.stats import pointbiserialr\n",
        "from scipy.stats import chi2_contingency\n",
        "# Define a function to calculate Cramer's V for categorical variables\n",
        "def cramers_v(x, y):\n",
        "    confusion_matrix = pd.crosstab(x, y)\n",
        "    chi2 = chi2_contingency(confusion_matrix)[0]\n",
        "    n = confusion_matrix.sum().sum()\n",
        "    phi2 = chi2 / n\n",
        "    r, k = confusion_matrix.shape\n",
        "    phi2corr = max(0, phi2 - ((k - 1) * (r - 1)) / (n - 1))\n",
        "    rcorr = r - ((r - 1) ** 2) / (n - 1)\n",
        "    kcorr = k - ((k - 1) ** 2) / (n - 1)\n",
        "    return np.sqrt(phi2corr / min((kcorr - 1), (rcorr - 1)))\n",
        "\n",
        "# Calculate correlation between 'Default' and non-continuous variables using Cramer's V\n",
        "non_continuous_columns = ['Education', 'EmploymentType', 'MaritalStatus', 'HasMortgage', 'HasDependents', 'LoanPurpose', 'HasCoSigner']\n",
        "cramer_v_corr = {col: cramers_v(df[col], df['Default']) for col in non_continuous_columns}\n",
        "\n",
        "# Calculate point biserial correlation for continuous variables\n",
        "continuous_columns = ['Age', 'Income', 'LoanAmount', 'CreditScore', 'MonthsEmployed', 'NumCreditLines', 'InterestRate', 'LoanTerm', 'DTIRatio']\n",
        "point_biserial_corr = {col: pointbiserialr(df[col], df['Default']).correlation for col in continuous_columns}\n",
        "\n",
        "print(\"Cramer's V Correlation (Non-Continuous Variables):\")\n",
        "# print(cramer_v_corr)\n",
        "for cor,val in cramer_v_corr.items():\n",
        "  print(f\"{cor}:{val}\")\n",
        "print(\"\\nPoint Biserial Correlation (Continuous Variables):\")\n",
        "# print(point_biserial_corr)\n",
        "for cor,val in point_biserial_corr.items():\n",
        "  print(f\"{cor}:{val}\")"
      ]
    },
    {
      "cell_type": "code",
      "execution_count": null,
      "metadata": {
        "colab": {
          "base_uri": "https://localhost:8080/"
        },
        "id": "nnMv5sR7zYkM",
        "outputId": "8d7fab58-ad1d-45f9-d9a2-611e13c2af65"
      },
      "outputs": [
        {
          "name": "stdout",
          "output_type": "stream",
          "text": [
            "Cramer's V Correlation (Non-Continuous Variables):\n",
            "Education:0.028747244369629714\n",
            "EmploymentType:0.045418799104531254\n",
            "MaritalStatus:0.027871719003663187\n",
            "HasMortgage:0.02275813123684662\n",
            "HasDependents:0.03460908700964881\n",
            "LoanPurpose:0.022030840704346844\n",
            "HasCoSigner:0.03904635378632623\n",
            "\n",
            "Point Biserial Correlation (Continuous Variables):\n",
            "Age:-0.16778316487134262\n",
            "Income:-0.09911948445660473\n",
            "LoanAmount:0.08665917723783706\n",
            "CreditScore:-0.03416649376077088\n",
            "MonthsEmployed:-0.09737382897016991\n",
            "NumCreditLines:0.02832972180922913\n",
            "InterestRate:0.13127301527989754\n",
            "LoanTerm:0.0005446976963168041\n",
            "DTIRatio:0.019235981039708125\n"
          ]
        }
      ],
      "source": [
        "# Define a function to calculate Cramer's V for categorical variables\n",
        "def cramers_v(x, y):\n",
        "    confusion_matrix = pd.crosstab(x, y)\n",
        "    chi2 = chi2_contingency(confusion_matrix)[0]\n",
        "    n = confusion_matrix.sum().sum()\n",
        "    phi2 = chi2 / n\n",
        "    r, k = confusion_matrix.shape\n",
        "    phi2corr = max(0, phi2 - ((k - 1) * (r - 1)) / (n - 1))\n",
        "    rcorr = r - ((r - 1) ** 2) / (n - 1)\n",
        "    kcorr = k - ((k - 1) ** 2) / (n - 1)\n",
        "    return np.sqrt(phi2corr / min((kcorr - 1), (rcorr - 1)))\n",
        "\n",
        "# Calculate correlation between 'Default' and non-continuous variables using Cramer's V\n",
        "non_continuous_columns = ['Education', 'EmploymentType', 'MaritalStatus', 'HasMortgage', 'HasDependents', 'LoanPurpose', 'HasCoSigner']\n",
        "cramer_v_corr = {col: cramers_v(df[col], df['Default']) for col in non_continuous_columns}\n",
        "\n",
        "# Calculate point biserial correlation for continuous variables\n",
        "continuous_columns = ['Age', 'Income', 'LoanAmount', 'CreditScore', 'MonthsEmployed', 'NumCreditLines', 'InterestRate', 'LoanTerm', 'DTIRatio']\n",
        "point_biserial_corr = {col: pointbiserialr(df[col], df['Default']).correlation for col in continuous_columns}\n",
        "\n",
        "print(\"Cramer's V Correlation (Non-Continuous Variables):\")\n",
        "for cor,val in cramer_v_corr.items():\n",
        "  print(f\"{cor}:{val}\")\n",
        "# print(cramer_v_corr)\n",
        "print(\"\\nPoint Biserial Correlation (Continuous Variables):\")\n",
        "# print(point_biserial_corr)\n",
        "for cor,val in point_biserial_corr.items():\n",
        "  print(f\"{cor}:{val}\")\n"
      ]
    },
    {
      "cell_type": "code",
      "execution_count": null,
      "metadata": {
        "id": "556fLUNfpJE3"
      },
      "outputs": [],
      "source": [
        "correlation_matrix = df.corr(method='pearson')\n",
        "\n",
        "print(correlation_matrix)"
      ]
    },
    {
      "cell_type": "code",
      "execution_count": null,
      "metadata": {
        "id": "cKH2NQ2LKsTB"
      },
      "outputs": [],
      "source": [
        "df.corr()"
      ]
    },
    {
      "cell_type": "code",
      "execution_count": null,
      "metadata": {
        "id": "F1FPoFDfKmuY"
      },
      "outputs": [],
      "source": [
        "plt.figure(figsize=(25,12))\n",
        "sns.heatmap(df.corr(),annot=True,cmap=\"viridis\")"
      ]
    },
    {
      "cell_type": "markdown",
      "metadata": {
        "id": "dibym5WzL9Rc"
      },
      "source": [
        "Drawing conclusions from the graph , value > 0.5 is considerd strong correlation\n",
        "\n",
        "Defaulter is highly positively correlated with credit score (0.75)\n",
        "\n",
        "Annual income is positively correlated with credit score (0.53)\n",
        "\n",
        "Current Credit Balance is positively correlated with credit score (0.48)\n",
        "\n",
        "Bankrupties is highly positively correlated with Number of credit problem(0.82)\n",
        "\n",
        "Term_Short_Term and Term_Long_Term are absolutlety negatively correlated (-1)\n",
        "\n",
        "Home_ownership_rent is highly negatively correlated with home_onwneship_home_mortgage (-0.90)\n",
        "\n",
        "Purpose_other is negatively correlated to Purpose_Debt_Consolidation (-0.64)"
      ]
    },
    {
      "cell_type": "code",
      "execution_count": null,
      "metadata": {
        "id": "Vslwhu3lL6xX"
      },
      "outputs": [],
      "source": [
        "plt.figure(figsize=(12,7))\n",
        "sns.scatterplot(x='Credit Score',y='Defaulter',data=df)"
      ]
    },
    {
      "cell_type": "code",
      "execution_count": null,
      "metadata": {
        "id": "6C-A9i43gBlK"
      },
      "outputs": [],
      "source": [
        "plt.figure(figsize=(50,10))\n",
        "sns.countplot(x='Credit Score',hue='Defaulter',data=df)"
      ]
    },
    {
      "cell_type": "code",
      "execution_count": null,
      "metadata": {
        "id": "Bc-RDNlnPjem"
      },
      "outputs": [],
      "source": [
        "plt.figure(figsize=(12,7))\n",
        "sns.scatterplot(x='Credit Score',y='Annual Income',data=df)"
      ]
    },
    {
      "cell_type": "code",
      "execution_count": null,
      "metadata": {
        "id": "gj2SWgtUPxXd"
      },
      "outputs": [],
      "source": [
        "plt.figure(figsize=(12,7))\n",
        "sns.scatterplot(x='Number of Credit Problems',y='Bankruptcies',data=df)"
      ]
    },
    {
      "cell_type": "code",
      "execution_count": null,
      "metadata": {
        "id": "zC2NLpGjQ6rm"
      },
      "outputs": [],
      "source": [
        "plt.figure(figsize=(12,7))\n",
        "sns.scatterplot(x='Home Ownership_Rent',y='Home Ownership_Home Mortgage',data=df)"
      ]
    },
    {
      "cell_type": "markdown",
      "metadata": {
        "id": "HlOp5JiwkCIN"
      },
      "source": [
        "Separating dependet and independent variables."
      ]
    },
    {
      "cell_type": "code",
      "execution_count": null,
      "metadata": {
        "id": "4xlWyGm0fQqx"
      },
      "outputs": [],
      "source": [
        "X=df.drop('Default',axis=1)"
      ]
    },
    {
      "cell_type": "code",
      "execution_count": null,
      "metadata": {
        "id": "JGztEbFNply-"
      },
      "outputs": [],
      "source": [
        "Y=df['Default']"
      ]
    },
    {
      "cell_type": "markdown",
      "metadata": {
        "id": "1uqphDjzp02K"
      },
      "source": [
        "Have to apply feature scaling if use linear ML algo (KNN,Neural network,Linear regression,logistic regression)\n",
        "\n",
        "RF,DT,Naive,ADAboost no scaling required."
      ]
    },
    {
      "cell_type": "code",
      "execution_count": null,
      "metadata": {
        "id": "QH0yaBztqUdK"
      },
      "outputs": [],
      "source": [
        "df.head().T"
      ]
    },
    {
      "cell_type": "code",
      "execution_count": null,
      "metadata": {
        "id": "ty2sVFTzrVtU"
      },
      "outputs": [],
      "source": [
        "col1 = ['Current Loan Amount','Months since last delinquent','Credit Score','Annual Income','Maximum Open Credit','Monthly Debt','Current Credit Balance','Years of Credit History','Number of Open Accounts']"
      ]
    },
    {
      "cell_type": "code",
      "execution_count": null,
      "metadata": {
        "id": "rmaehRAs54j3"
      },
      "outputs": [],
      "source": [
        "numerical_columns = [col_ for col_ in X.columns if X[col_].dtype in [np.int64,np.float64]]\n",
        "categorical_columns = [col_ for col_ in X.columns if X[col_].dtype==\"object\"]\n",
        "\n",
        "# Removing PK\n",
        "categorical_columns.remove(\"LoanID\")\n"
      ]
    },
    {
      "cell_type": "code",
      "execution_count": null,
      "metadata": {
        "colab": {
          "base_uri": "https://localhost:8080/"
        },
        "id": "judUcw21sKdV",
        "outputId": "23779d6c-9189-4584-b652-a7e3a07ffa01"
      },
      "outputs": [
        {
          "name": "stdout",
          "output_type": "stream",
          "text": [
            "Age\n",
            "Income\n",
            "LoanAmount\n",
            "CreditScore\n",
            "MonthsEmployed\n",
            "NumCreditLines\n",
            "InterestRate\n",
            "LoanTerm\n",
            "DTIRatio\n"
          ]
        }
      ],
      "source": [
        "from sklearn.preprocessing import StandardScaler\n",
        "st = StandardScaler()\n",
        "\n",
        "X_ = X.copy()\n",
        "for col_ in numerical_columns:\n",
        "  print(col_)\n",
        "  X_[f\"{col_}_scaled\"] = st.fit_transform(X_[[col_]])\n",
        "  X_.drop(col_, axis=1, inplace = True)"
      ]
    },
    {
      "cell_type": "code",
      "execution_count": null,
      "metadata": {
        "colab": {
          "base_uri": "https://localhost:8080/"
        },
        "id": "DvsL5DaSsk1U",
        "outputId": "a92220a4-9396-4d19-fefb-f264d992b8de"
      },
      "outputs": [
        {
          "name": "stdout",
          "output_type": "stream",
          "text": [
            "Education\n"
          ]
        },
        {
          "name": "stderr",
          "output_type": "stream",
          "text": [
            "/usr/local/lib/python3.10/dist-packages/sklearn/preprocessing/_label.py:116: DataConversionWarning: A column-vector y was passed when a 1d array was expected. Please change the shape of y to (n_samples, ), for example using ravel().\n",
            "  y = column_or_1d(y, warn=True)\n"
          ]
        },
        {
          "name": "stdout",
          "output_type": "stream",
          "text": [
            "EmploymentType\n"
          ]
        },
        {
          "name": "stderr",
          "output_type": "stream",
          "text": [
            "/usr/local/lib/python3.10/dist-packages/sklearn/preprocessing/_label.py:116: DataConversionWarning: A column-vector y was passed when a 1d array was expected. Please change the shape of y to (n_samples, ), for example using ravel().\n",
            "  y = column_or_1d(y, warn=True)\n"
          ]
        },
        {
          "name": "stdout",
          "output_type": "stream",
          "text": [
            "MaritalStatus\n"
          ]
        },
        {
          "name": "stderr",
          "output_type": "stream",
          "text": [
            "/usr/local/lib/python3.10/dist-packages/sklearn/preprocessing/_label.py:116: DataConversionWarning: A column-vector y was passed when a 1d array was expected. Please change the shape of y to (n_samples, ), for example using ravel().\n",
            "  y = column_or_1d(y, warn=True)\n"
          ]
        },
        {
          "name": "stdout",
          "output_type": "stream",
          "text": [
            "HasMortgage\n"
          ]
        },
        {
          "name": "stderr",
          "output_type": "stream",
          "text": [
            "/usr/local/lib/python3.10/dist-packages/sklearn/preprocessing/_label.py:116: DataConversionWarning: A column-vector y was passed when a 1d array was expected. Please change the shape of y to (n_samples, ), for example using ravel().\n",
            "  y = column_or_1d(y, warn=True)\n"
          ]
        },
        {
          "name": "stdout",
          "output_type": "stream",
          "text": [
            "HasDependents\n",
            "LoanPurpose\n"
          ]
        },
        {
          "name": "stderr",
          "output_type": "stream",
          "text": [
            "/usr/local/lib/python3.10/dist-packages/sklearn/preprocessing/_label.py:116: DataConversionWarning: A column-vector y was passed when a 1d array was expected. Please change the shape of y to (n_samples, ), for example using ravel().\n",
            "  y = column_or_1d(y, warn=True)\n",
            "/usr/local/lib/python3.10/dist-packages/sklearn/preprocessing/_label.py:116: DataConversionWarning: A column-vector y was passed when a 1d array was expected. Please change the shape of y to (n_samples, ), for example using ravel().\n",
            "  y = column_or_1d(y, warn=True)\n",
            "/usr/local/lib/python3.10/dist-packages/sklearn/preprocessing/_label.py:116: DataConversionWarning: A column-vector y was passed when a 1d array was expected. Please change the shape of y to (n_samples, ), for example using ravel().\n",
            "  y = column_or_1d(y, warn=True)\n"
          ]
        },
        {
          "name": "stdout",
          "output_type": "stream",
          "text": [
            "HasCoSigner\n"
          ]
        }
      ],
      "source": [
        "from sklearn.preprocessing import LabelEncoder\n",
        "le = LabelEncoder()\n",
        "\n",
        "for col_ in categorical_columns:\n",
        "  print(col_)\n",
        "  X_[f\"{col_}_encode\"] = le.fit_transform(X_[[col_]])\n",
        "  X_.drop(col_, axis=1, inplace = True)\n"
      ]
    },
    {
      "cell_type": "code",
      "execution_count": null,
      "metadata": {
        "colab": {
          "base_uri": "https://localhost:8080/",
          "height": 443
        },
        "id": "5eU_rziN-vOm",
        "outputId": "f658a175-f1e6-400b-fc2e-e01a49b0073e"
      },
      "outputs": [
        {
          "data": {
            "application/vnd.google.colaboratory.intrinsic+json": {
              "type": "dataframe",
              "variable_name": "X_"
            },
            "text/html": [
              "\n",
              "  <div id=\"df-8b5d1da0-4608-4752-a46a-2813e2006811\" class=\"colab-df-container\">\n",
              "    <div>\n",
              "<style scoped>\n",
              "    .dataframe tbody tr th:only-of-type {\n",
              "        vertical-align: middle;\n",
              "    }\n",
              "\n",
              "    .dataframe tbody tr th {\n",
              "        vertical-align: top;\n",
              "    }\n",
              "\n",
              "    .dataframe thead th {\n",
              "        text-align: right;\n",
              "    }\n",
              "</style>\n",
              "<table border=\"1\" class=\"dataframe\">\n",
              "  <thead>\n",
              "    <tr style=\"text-align: right;\">\n",
              "      <th></th>\n",
              "      <th>LoanID</th>\n",
              "      <th>Age_scaled</th>\n",
              "      <th>Income_scaled</th>\n",
              "      <th>LoanAmount_scaled</th>\n",
              "      <th>CreditScore_scaled</th>\n",
              "      <th>MonthsEmployed_scaled</th>\n",
              "      <th>NumCreditLines_scaled</th>\n",
              "      <th>InterestRate_scaled</th>\n",
              "      <th>LoanTerm_scaled</th>\n",
              "      <th>DTIRatio_scaled</th>\n",
              "      <th>Education_encode</th>\n",
              "      <th>EmploymentType_encode</th>\n",
              "      <th>MaritalStatus_encode</th>\n",
              "      <th>HasMortgage_encode</th>\n",
              "      <th>HasDependents_encode</th>\n",
              "      <th>LoanPurpose_encode</th>\n",
              "      <th>HasCoSigner_encode</th>\n",
              "    </tr>\n",
              "  </thead>\n",
              "  <tbody>\n",
              "    <tr>\n",
              "      <th>0</th>\n",
              "      <td>I38PQUQS96</td>\n",
              "      <td>0.833990</td>\n",
              "      <td>0.089693</td>\n",
              "      <td>-1.086833</td>\n",
              "      <td>-0.341492</td>\n",
              "      <td>0.590533</td>\n",
              "      <td>1.341937</td>\n",
              "      <td>0.261771</td>\n",
              "      <td>-0.001526</td>\n",
              "      <td>-0.260753</td>\n",
              "      <td>0</td>\n",
              "      <td>0</td>\n",
              "      <td>0</td>\n",
              "      <td>1</td>\n",
              "      <td>1</td>\n",
              "      <td>4</td>\n",
              "      <td>1</td>\n",
              "    </tr>\n",
              "    <tr>\n",
              "      <th>1</th>\n",
              "      <td>HPSK72WA7R</td>\n",
              "      <td>1.701221</td>\n",
              "      <td>-0.823021</td>\n",
              "      <td>-0.044309</td>\n",
              "      <td>-0.731666</td>\n",
              "      <td>-1.285731</td>\n",
              "      <td>-1.343791</td>\n",
              "      <td>-1.308350</td>\n",
              "      <td>1.412793</td>\n",
              "      <td>0.778585</td>\n",
              "      <td>2</td>\n",
              "      <td>0</td>\n",
              "      <td>1</td>\n",
              "      <td>0</td>\n",
              "      <td>0</td>\n",
              "      <td>4</td>\n",
              "      <td>1</td>\n",
              "    </tr>\n",
              "    <tr>\n",
              "      <th>2</th>\n",
              "      <td>C1OZ6DPJ8Y</td>\n",
              "      <td>0.166888</td>\n",
              "      <td>0.043854</td>\n",
              "      <td>0.022715</td>\n",
              "      <td>-0.775718</td>\n",
              "      <td>-0.968209</td>\n",
              "      <td>0.446694</td>\n",
              "      <td>1.156831</td>\n",
              "      <td>-0.708685</td>\n",
              "      <td>-0.823728</td>\n",
              "      <td>2</td>\n",
              "      <td>3</td>\n",
              "      <td>0</td>\n",
              "      <td>1</td>\n",
              "      <td>1</td>\n",
              "      <td>0</td>\n",
              "      <td>0</td>\n",
              "    </tr>\n",
              "    <tr>\n",
              "      <th>3</th>\n",
              "      <td>V2KKSFM3UN</td>\n",
              "      <td>-0.767053</td>\n",
              "      <td>-1.303452</td>\n",
              "      <td>-1.168538</td>\n",
              "      <td>1.061875</td>\n",
              "      <td>-1.718715</td>\n",
              "      <td>0.446694</td>\n",
              "      <td>-0.967805</td>\n",
              "      <td>-0.708685</td>\n",
              "      <td>-1.170174</td>\n",
              "      <td>1</td>\n",
              "      <td>0</td>\n",
              "      <td>1</td>\n",
              "      <td>0</td>\n",
              "      <td>0</td>\n",
              "      <td>1</td>\n",
              "      <td>0</td>\n",
              "    </tr>\n",
              "    <tr>\n",
              "      <th>4</th>\n",
              "      <td>EY08JDHTZP</td>\n",
              "      <td>1.100830</td>\n",
              "      <td>-1.592855</td>\n",
              "      <td>-1.671921</td>\n",
              "      <td>0.369631</td>\n",
              "      <td>-1.487790</td>\n",
              "      <td>1.341937</td>\n",
              "      <td>-1.052188</td>\n",
              "      <td>0.705634</td>\n",
              "      <td>0.995114</td>\n",
              "      <td>0</td>\n",
              "      <td>3</td>\n",
              "      <td>0</td>\n",
              "      <td>0</td>\n",
              "      <td>1</td>\n",
              "      <td>0</td>\n",
              "      <td>0</td>\n",
              "    </tr>\n",
              "    <tr>\n",
              "      <th>...</th>\n",
              "      <td>...</td>\n",
              "      <td>...</td>\n",
              "      <td>...</td>\n",
              "      <td>...</td>\n",
              "      <td>...</td>\n",
              "      <td>...</td>\n",
              "      <td>...</td>\n",
              "      <td>...</td>\n",
              "      <td>...</td>\n",
              "      <td>...</td>\n",
              "      <td>...</td>\n",
              "      <td>...</td>\n",
              "      <td>...</td>\n",
              "      <td>...</td>\n",
              "      <td>...</td>\n",
              "      <td>...</td>\n",
              "      <td>...</td>\n",
              "    </tr>\n",
              "    <tr>\n",
              "      <th>255342</th>\n",
              "      <td>8C6S86ESGC</td>\n",
              "      <td>-1.634285</td>\n",
              "      <td>-1.142632</td>\n",
              "      <td>1.173101</td>\n",
              "      <td>-0.209337</td>\n",
              "      <td>1.427636</td>\n",
              "      <td>1.341937</td>\n",
              "      <td>0.093006</td>\n",
              "      <td>-1.415845</td>\n",
              "      <td>1.514783</td>\n",
              "      <td>0</td>\n",
              "      <td>0</td>\n",
              "      <td>1</td>\n",
              "      <td>0</td>\n",
              "      <td>0</td>\n",
              "      <td>4</td>\n",
              "      <td>0</td>\n",
              "    </tr>\n",
              "    <tr>\n",
              "      <th>255343</th>\n",
              "      <td>98R4KDHNND</td>\n",
              "      <td>-0.767053</td>\n",
              "      <td>-0.783984</td>\n",
              "      <td>0.879724</td>\n",
              "      <td>-0.398130</td>\n",
              "      <td>-1.314597</td>\n",
              "      <td>-0.448549</td>\n",
              "      <td>-0.292744</td>\n",
              "      <td>-0.708685</td>\n",
              "      <td>-1.256785</td>\n",
              "      <td>1</td>\n",
              "      <td>1</td>\n",
              "      <td>0</td>\n",
              "      <td>0</td>\n",
              "      <td>0</td>\n",
              "      <td>3</td>\n",
              "      <td>0</td>\n",
              "    </tr>\n",
              "    <tr>\n",
              "      <th>255344</th>\n",
              "      <td>XQK1UUUNGP</td>\n",
              "      <td>0.833990</td>\n",
              "      <td>0.059562</td>\n",
              "      <td>1.139391</td>\n",
              "      <td>0.143078</td>\n",
              "      <td>0.301877</td>\n",
              "      <td>0.446694</td>\n",
              "      <td>-1.236022</td>\n",
              "      <td>1.412793</td>\n",
              "      <td>-0.000918</td>\n",
              "      <td>1</td>\n",
              "      <td>2</td>\n",
              "      <td>1</td>\n",
              "      <td>1</td>\n",
              "      <td>1</td>\n",
              "      <td>0</td>\n",
              "      <td>1</td>\n",
              "    </tr>\n",
              "    <tr>\n",
              "      <th>255345</th>\n",
              "      <td>JAO28CPL4H</td>\n",
              "      <td>-0.099952</td>\n",
              "      <td>0.066979</td>\n",
              "      <td>-0.945840</td>\n",
              "      <td>1.477221</td>\n",
              "      <td>-0.564091</td>\n",
              "      <td>-1.343791</td>\n",
              "      <td>1.116146</td>\n",
              "      <td>0.705634</td>\n",
              "      <td>-0.260753</td>\n",
              "      <td>1</td>\n",
              "      <td>1</td>\n",
              "      <td>2</td>\n",
              "      <td>1</td>\n",
              "      <td>1</td>\n",
              "      <td>4</td>\n",
              "      <td>0</td>\n",
              "    </tr>\n",
              "    <tr>\n",
              "      <th>255346</th>\n",
              "      <td>ZTH91CGL0B</td>\n",
              "      <td>1.234250</td>\n",
              "      <td>-1.542012</td>\n",
              "      <td>-1.540048</td>\n",
              "      <td>0.388510</td>\n",
              "      <td>1.543098</td>\n",
              "      <td>-0.448549</td>\n",
              "      <td>-1.019038</td>\n",
              "      <td>-1.415845</td>\n",
              "      <td>-0.087530</td>\n",
              "      <td>0</td>\n",
              "      <td>3</td>\n",
              "      <td>0</td>\n",
              "      <td>1</td>\n",
              "      <td>0</td>\n",
              "      <td>2</td>\n",
              "      <td>1</td>\n",
              "    </tr>\n",
              "  </tbody>\n",
              "</table>\n",
              "<p>255347 rows × 17 columns</p>\n",
              "</div>\n",
              "    <div class=\"colab-df-buttons\">\n",
              "\n",
              "  <div class=\"colab-df-container\">\n",
              "    <button class=\"colab-df-convert\" onclick=\"convertToInteractive('df-8b5d1da0-4608-4752-a46a-2813e2006811')\"\n",
              "            title=\"Convert this dataframe to an interactive table.\"\n",
              "            style=\"display:none;\">\n",
              "\n",
              "  <svg xmlns=\"http://www.w3.org/2000/svg\" height=\"24px\" viewBox=\"0 -960 960 960\">\n",
              "    <path d=\"M120-120v-720h720v720H120Zm60-500h600v-160H180v160Zm220 220h160v-160H400v160Zm0 220h160v-160H400v160ZM180-400h160v-160H180v160Zm440 0h160v-160H620v160ZM180-180h160v-160H180v160Zm440 0h160v-160H620v160Z\"/>\n",
              "  </svg>\n",
              "    </button>\n",
              "\n",
              "  <style>\n",
              "    .colab-df-container {\n",
              "      display:flex;\n",
              "      gap: 12px;\n",
              "    }\n",
              "\n",
              "    .colab-df-convert {\n",
              "      background-color: #E8F0FE;\n",
              "      border: none;\n",
              "      border-radius: 50%;\n",
              "      cursor: pointer;\n",
              "      display: none;\n",
              "      fill: #1967D2;\n",
              "      height: 32px;\n",
              "      padding: 0 0 0 0;\n",
              "      width: 32px;\n",
              "    }\n",
              "\n",
              "    .colab-df-convert:hover {\n",
              "      background-color: #E2EBFA;\n",
              "      box-shadow: 0px 1px 2px rgba(60, 64, 67, 0.3), 0px 1px 3px 1px rgba(60, 64, 67, 0.15);\n",
              "      fill: #174EA6;\n",
              "    }\n",
              "\n",
              "    .colab-df-buttons div {\n",
              "      margin-bottom: 4px;\n",
              "    }\n",
              "\n",
              "    [theme=dark] .colab-df-convert {\n",
              "      background-color: #3B4455;\n",
              "      fill: #D2E3FC;\n",
              "    }\n",
              "\n",
              "    [theme=dark] .colab-df-convert:hover {\n",
              "      background-color: #434B5C;\n",
              "      box-shadow: 0px 1px 3px 1px rgba(0, 0, 0, 0.15);\n",
              "      filter: drop-shadow(0px 1px 2px rgba(0, 0, 0, 0.3));\n",
              "      fill: #FFFFFF;\n",
              "    }\n",
              "  </style>\n",
              "\n",
              "    <script>\n",
              "      const buttonEl =\n",
              "        document.querySelector('#df-8b5d1da0-4608-4752-a46a-2813e2006811 button.colab-df-convert');\n",
              "      buttonEl.style.display =\n",
              "        google.colab.kernel.accessAllowed ? 'block' : 'none';\n",
              "\n",
              "      async function convertToInteractive(key) {\n",
              "        const element = document.querySelector('#df-8b5d1da0-4608-4752-a46a-2813e2006811');\n",
              "        const dataTable =\n",
              "          await google.colab.kernel.invokeFunction('convertToInteractive',\n",
              "                                                    [key], {});\n",
              "        if (!dataTable) return;\n",
              "\n",
              "        const docLinkHtml = 'Like what you see? Visit the ' +\n",
              "          '<a target=\"_blank\" href=https://colab.research.google.com/notebooks/data_table.ipynb>data table notebook</a>'\n",
              "          + ' to learn more about interactive tables.';\n",
              "        element.innerHTML = '';\n",
              "        dataTable['output_type'] = 'display_data';\n",
              "        await google.colab.output.renderOutput(dataTable, element);\n",
              "        const docLink = document.createElement('div');\n",
              "        docLink.innerHTML = docLinkHtml;\n",
              "        element.appendChild(docLink);\n",
              "      }\n",
              "    </script>\n",
              "  </div>\n",
              "\n",
              "\n",
              "<div id=\"df-13ac9fc9-7a4b-4f09-aadd-29d0e4f8ee3d\">\n",
              "  <button class=\"colab-df-quickchart\" onclick=\"quickchart('df-13ac9fc9-7a4b-4f09-aadd-29d0e4f8ee3d')\"\n",
              "            title=\"Suggest charts\"\n",
              "            style=\"display:none;\">\n",
              "\n",
              "<svg xmlns=\"http://www.w3.org/2000/svg\" height=\"24px\"viewBox=\"0 0 24 24\"\n",
              "     width=\"24px\">\n",
              "    <g>\n",
              "        <path d=\"M19 3H5c-1.1 0-2 .9-2 2v14c0 1.1.9 2 2 2h14c1.1 0 2-.9 2-2V5c0-1.1-.9-2-2-2zM9 17H7v-7h2v7zm4 0h-2V7h2v10zm4 0h-2v-4h2v4z\"/>\n",
              "    </g>\n",
              "</svg>\n",
              "  </button>\n",
              "\n",
              "<style>\n",
              "  .colab-df-quickchart {\n",
              "      --bg-color: #E8F0FE;\n",
              "      --fill-color: #1967D2;\n",
              "      --hover-bg-color: #E2EBFA;\n",
              "      --hover-fill-color: #174EA6;\n",
              "      --disabled-fill-color: #AAA;\n",
              "      --disabled-bg-color: #DDD;\n",
              "  }\n",
              "\n",
              "  [theme=dark] .colab-df-quickchart {\n",
              "      --bg-color: #3B4455;\n",
              "      --fill-color: #D2E3FC;\n",
              "      --hover-bg-color: #434B5C;\n",
              "      --hover-fill-color: #FFFFFF;\n",
              "      --disabled-bg-color: #3B4455;\n",
              "      --disabled-fill-color: #666;\n",
              "  }\n",
              "\n",
              "  .colab-df-quickchart {\n",
              "    background-color: var(--bg-color);\n",
              "    border: none;\n",
              "    border-radius: 50%;\n",
              "    cursor: pointer;\n",
              "    display: none;\n",
              "    fill: var(--fill-color);\n",
              "    height: 32px;\n",
              "    padding: 0;\n",
              "    width: 32px;\n",
              "  }\n",
              "\n",
              "  .colab-df-quickchart:hover {\n",
              "    background-color: var(--hover-bg-color);\n",
              "    box-shadow: 0 1px 2px rgba(60, 64, 67, 0.3), 0 1px 3px 1px rgba(60, 64, 67, 0.15);\n",
              "    fill: var(--button-hover-fill-color);\n",
              "  }\n",
              "\n",
              "  .colab-df-quickchart-complete:disabled,\n",
              "  .colab-df-quickchart-complete:disabled:hover {\n",
              "    background-color: var(--disabled-bg-color);\n",
              "    fill: var(--disabled-fill-color);\n",
              "    box-shadow: none;\n",
              "  }\n",
              "\n",
              "  .colab-df-spinner {\n",
              "    border: 2px solid var(--fill-color);\n",
              "    border-color: transparent;\n",
              "    border-bottom-color: var(--fill-color);\n",
              "    animation:\n",
              "      spin 1s steps(1) infinite;\n",
              "  }\n",
              "\n",
              "  @keyframes spin {\n",
              "    0% {\n",
              "      border-color: transparent;\n",
              "      border-bottom-color: var(--fill-color);\n",
              "      border-left-color: var(--fill-color);\n",
              "    }\n",
              "    20% {\n",
              "      border-color: transparent;\n",
              "      border-left-color: var(--fill-color);\n",
              "      border-top-color: var(--fill-color);\n",
              "    }\n",
              "    30% {\n",
              "      border-color: transparent;\n",
              "      border-left-color: var(--fill-color);\n",
              "      border-top-color: var(--fill-color);\n",
              "      border-right-color: var(--fill-color);\n",
              "    }\n",
              "    40% {\n",
              "      border-color: transparent;\n",
              "      border-right-color: var(--fill-color);\n",
              "      border-top-color: var(--fill-color);\n",
              "    }\n",
              "    60% {\n",
              "      border-color: transparent;\n",
              "      border-right-color: var(--fill-color);\n",
              "    }\n",
              "    80% {\n",
              "      border-color: transparent;\n",
              "      border-right-color: var(--fill-color);\n",
              "      border-bottom-color: var(--fill-color);\n",
              "    }\n",
              "    90% {\n",
              "      border-color: transparent;\n",
              "      border-bottom-color: var(--fill-color);\n",
              "    }\n",
              "  }\n",
              "</style>\n",
              "\n",
              "  <script>\n",
              "    async function quickchart(key) {\n",
              "      const quickchartButtonEl =\n",
              "        document.querySelector('#' + key + ' button');\n",
              "      quickchartButtonEl.disabled = true;  // To prevent multiple clicks.\n",
              "      quickchartButtonEl.classList.add('colab-df-spinner');\n",
              "      try {\n",
              "        const charts = await google.colab.kernel.invokeFunction(\n",
              "            'suggestCharts', [key], {});\n",
              "      } catch (error) {\n",
              "        console.error('Error during call to suggestCharts:', error);\n",
              "      }\n",
              "      quickchartButtonEl.classList.remove('colab-df-spinner');\n",
              "      quickchartButtonEl.classList.add('colab-df-quickchart-complete');\n",
              "    }\n",
              "    (() => {\n",
              "      let quickchartButtonEl =\n",
              "        document.querySelector('#df-13ac9fc9-7a4b-4f09-aadd-29d0e4f8ee3d button');\n",
              "      quickchartButtonEl.style.display =\n",
              "        google.colab.kernel.accessAllowed ? 'block' : 'none';\n",
              "    })();\n",
              "  </script>\n",
              "</div>\n",
              "\n",
              "  <div id=\"id_a21a9a7b-21d6-461c-90d0-372b50157522\">\n",
              "    <style>\n",
              "      .colab-df-generate {\n",
              "        background-color: #E8F0FE;\n",
              "        border: none;\n",
              "        border-radius: 50%;\n",
              "        cursor: pointer;\n",
              "        display: none;\n",
              "        fill: #1967D2;\n",
              "        height: 32px;\n",
              "        padding: 0 0 0 0;\n",
              "        width: 32px;\n",
              "      }\n",
              "\n",
              "      .colab-df-generate:hover {\n",
              "        background-color: #E2EBFA;\n",
              "        box-shadow: 0px 1px 2px rgba(60, 64, 67, 0.3), 0px 1px 3px 1px rgba(60, 64, 67, 0.15);\n",
              "        fill: #174EA6;\n",
              "      }\n",
              "\n",
              "      [theme=dark] .colab-df-generate {\n",
              "        background-color: #3B4455;\n",
              "        fill: #D2E3FC;\n",
              "      }\n",
              "\n",
              "      [theme=dark] .colab-df-generate:hover {\n",
              "        background-color: #434B5C;\n",
              "        box-shadow: 0px 1px 3px 1px rgba(0, 0, 0, 0.15);\n",
              "        filter: drop-shadow(0px 1px 2px rgba(0, 0, 0, 0.3));\n",
              "        fill: #FFFFFF;\n",
              "      }\n",
              "    </style>\n",
              "    <button class=\"colab-df-generate\" onclick=\"generateWithVariable('X_')\"\n",
              "            title=\"Generate code using this dataframe.\"\n",
              "            style=\"display:none;\">\n",
              "\n",
              "  <svg xmlns=\"http://www.w3.org/2000/svg\" height=\"24px\"viewBox=\"0 0 24 24\"\n",
              "       width=\"24px\">\n",
              "    <path d=\"M7,19H8.4L18.45,9,17,7.55,7,17.6ZM5,21V16.75L18.45,3.32a2,2,0,0,1,2.83,0l1.4,1.43a1.91,1.91,0,0,1,.58,1.4,1.91,1.91,0,0,1-.58,1.4L9.25,21ZM18.45,9,17,7.55Zm-12,3A5.31,5.31,0,0,0,4.9,8.1,5.31,5.31,0,0,0,1,6.5,5.31,5.31,0,0,0,4.9,4.9,5.31,5.31,0,0,0,6.5,1,5.31,5.31,0,0,0,8.1,4.9,5.31,5.31,0,0,0,12,6.5,5.46,5.46,0,0,0,6.5,12Z\"/>\n",
              "  </svg>\n",
              "    </button>\n",
              "    <script>\n",
              "      (() => {\n",
              "      const buttonEl =\n",
              "        document.querySelector('#id_a21a9a7b-21d6-461c-90d0-372b50157522 button.colab-df-generate');\n",
              "      buttonEl.style.display =\n",
              "        google.colab.kernel.accessAllowed ? 'block' : 'none';\n",
              "\n",
              "      buttonEl.onclick = () => {\n",
              "        google.colab.notebook.generateWithVariable('X_');\n",
              "      }\n",
              "      })();\n",
              "    </script>\n",
              "  </div>\n",
              "\n",
              "    </div>\n",
              "  </div>\n"
            ],
            "text/plain": [
              "            LoanID  Age_scaled  Income_scaled  LoanAmount_scaled  \\\n",
              "0       I38PQUQS96    0.833990       0.089693          -1.086833   \n",
              "1       HPSK72WA7R    1.701221      -0.823021          -0.044309   \n",
              "2       C1OZ6DPJ8Y    0.166888       0.043854           0.022715   \n",
              "3       V2KKSFM3UN   -0.767053      -1.303452          -1.168538   \n",
              "4       EY08JDHTZP    1.100830      -1.592855          -1.671921   \n",
              "...            ...         ...            ...                ...   \n",
              "255342  8C6S86ESGC   -1.634285      -1.142632           1.173101   \n",
              "255343  98R4KDHNND   -0.767053      -0.783984           0.879724   \n",
              "255344  XQK1UUUNGP    0.833990       0.059562           1.139391   \n",
              "255345  JAO28CPL4H   -0.099952       0.066979          -0.945840   \n",
              "255346  ZTH91CGL0B    1.234250      -1.542012          -1.540048   \n",
              "\n",
              "        CreditScore_scaled  MonthsEmployed_scaled  NumCreditLines_scaled  \\\n",
              "0                -0.341492               0.590533               1.341937   \n",
              "1                -0.731666              -1.285731              -1.343791   \n",
              "2                -0.775718              -0.968209               0.446694   \n",
              "3                 1.061875              -1.718715               0.446694   \n",
              "4                 0.369631              -1.487790               1.341937   \n",
              "...                    ...                    ...                    ...   \n",
              "255342           -0.209337               1.427636               1.341937   \n",
              "255343           -0.398130              -1.314597              -0.448549   \n",
              "255344            0.143078               0.301877               0.446694   \n",
              "255345            1.477221              -0.564091              -1.343791   \n",
              "255346            0.388510               1.543098              -0.448549   \n",
              "\n",
              "        InterestRate_scaled  LoanTerm_scaled  DTIRatio_scaled  \\\n",
              "0                  0.261771        -0.001526        -0.260753   \n",
              "1                 -1.308350         1.412793         0.778585   \n",
              "2                  1.156831        -0.708685        -0.823728   \n",
              "3                 -0.967805        -0.708685        -1.170174   \n",
              "4                 -1.052188         0.705634         0.995114   \n",
              "...                     ...              ...              ...   \n",
              "255342             0.093006        -1.415845         1.514783   \n",
              "255343            -0.292744        -0.708685        -1.256785   \n",
              "255344            -1.236022         1.412793        -0.000918   \n",
              "255345             1.116146         0.705634        -0.260753   \n",
              "255346            -1.019038        -1.415845        -0.087530   \n",
              "\n",
              "        Education_encode  EmploymentType_encode  MaritalStatus_encode  \\\n",
              "0                      0                      0                     0   \n",
              "1                      2                      0                     1   \n",
              "2                      2                      3                     0   \n",
              "3                      1                      0                     1   \n",
              "4                      0                      3                     0   \n",
              "...                  ...                    ...                   ...   \n",
              "255342                 0                      0                     1   \n",
              "255343                 1                      1                     0   \n",
              "255344                 1                      2                     1   \n",
              "255345                 1                      1                     2   \n",
              "255346                 0                      3                     0   \n",
              "\n",
              "        HasMortgage_encode  HasDependents_encode  LoanPurpose_encode  \\\n",
              "0                        1                     1                   4   \n",
              "1                        0                     0                   4   \n",
              "2                        1                     1                   0   \n",
              "3                        0                     0                   1   \n",
              "4                        0                     1                   0   \n",
              "...                    ...                   ...                 ...   \n",
              "255342                   0                     0                   4   \n",
              "255343                   0                     0                   3   \n",
              "255344                   1                     1                   0   \n",
              "255345                   1                     1                   4   \n",
              "255346                   1                     0                   2   \n",
              "\n",
              "        HasCoSigner_encode  \n",
              "0                        1  \n",
              "1                        1  \n",
              "2                        0  \n",
              "3                        0  \n",
              "4                        0  \n",
              "...                    ...  \n",
              "255342                   0  \n",
              "255343                   0  \n",
              "255344                   1  \n",
              "255345                   0  \n",
              "255346                   1  \n",
              "\n",
              "[255347 rows x 17 columns]"
            ]
          },
          "execution_count": 201,
          "metadata": {},
          "output_type": "execute_result"
        }
      ],
      "source": [
        "X_"
      ]
    },
    {
      "cell_type": "markdown",
      "metadata": {
        "id": "-oi3YZS1tAYW"
      },
      "source": [
        "Splitting Dataset"
      ]
    },
    {
      "cell_type": "code",
      "execution_count": null,
      "metadata": {
        "id": "JhKiKeyXs834"
      },
      "outputs": [],
      "source": [
        "from sklearn.model_selection import train_test_split\n",
        "from sklearn.model_selection import cross_val_score\n",
        "from sklearn.metrics import accuracy_score, f1_score, precision_score, recall_score"
      ]
    },
    {
      "cell_type": "code",
      "execution_count": null,
      "metadata": {
        "id": "MabdRn5ptgc_"
      },
      "outputs": [],
      "source": [
        "# model_df={}\n",
        "# def model_val(model,X,Y):\n",
        "\n",
        "#   model.fit(X_train,Y_train)\n",
        "#   Y_pred=model.predict(X_test)\n",
        "\n",
        "#   print(f\"{model} accuracy is {accuracy_score(Y_test,Y_pred)}\")\n",
        "\n",
        "# # using cross validation in order to overcome the issue of selecting best areas for split\n",
        "#   score=cross_val_score(model,X,Y,cv=5)\n",
        "#   print(f\"{model} avg cross val score is {np.mean(score)}\")\n",
        "#   model_df[model] = round(np.mean(score)*100,2)\n",
        "\n",
        "\n",
        "numeric_scaled = list(map(lambda x: x + \"_scaled\", numerical_columns))\n",
        "categorical_encode = list(map(lambda x: x + \"_encode\", categorical_columns))"
      ]
    },
    {
      "cell_type": "code",
      "execution_count": null,
      "metadata": {
        "colab": {
          "base_uri": "https://localhost:8080/"
        },
        "id": "Iueb9ZrmAFbs",
        "outputId": "9ab5c9ca-c689-422b-b5e1-c4243e2c81e9"
      },
      "outputs": [
        {
          "name": "stdout",
          "output_type": "stream",
          "text": [
            "(178742, 17), (178742,)\n",
            "(76605, 17), (76605,)\n"
          ]
        }
      ],
      "source": [
        "X_train,X_test,Y_train,Y_test = train_test_split(X_,Y,test_size=0.30,random_state=42, stratify = Y)\n",
        "print(f\"{X_train.shape}, {Y_train.shape}\")\n",
        "print(f\"{X_test.shape}, {Y_test.shape}\")\n",
        "\n",
        "cols_to_consider = numeric_scaled + categorical_encode\n",
        "X_train_, X_test_ = X_train[cols_to_consider], X_test[cols_to_consider]"
      ]
    },
    {
      "cell_type": "code",
      "execution_count": null,
      "metadata": {
        "colab": {
          "base_uri": "https://localhost:8080/",
          "height": 216
        },
        "id": "1ps5TlNcEihz",
        "outputId": "fdab25d8-bb88-41b3-b8d6-db85150ed602"
      },
      "outputs": [
        {
          "output_type": "error",
          "ename": "NameError",
          "evalue": "name 'SMOTE' is not defined",
          "traceback": [
            "\u001b[0;31m---------------------------------------------------------------------------\u001b[0m",
            "\u001b[0;31mNameError\u001b[0m                                 Traceback (most recent call last)",
            "\u001b[0;32m<ipython-input-1-83d6fd4e9b7c>\u001b[0m in \u001b[0;36m<cell line: 2>\u001b[0;34m()\u001b[0m\n\u001b[1;32m      1\u001b[0m \u001b[0;31m### Handling Class Imbalance\u001b[0m\u001b[0;34m\u001b[0m\u001b[0;34m\u001b[0m\u001b[0m\n\u001b[0;32m----> 2\u001b[0;31m \u001b[0msmote_tomek\u001b[0m \u001b[0;34m=\u001b[0m \u001b[0mSMOTE\u001b[0m\u001b[0;34m(\u001b[0m\u001b[0mrandom_state\u001b[0m\u001b[0;34m=\u001b[0m\u001b[0;36m42\u001b[0m\u001b[0;34m)\u001b[0m\u001b[0;34m\u001b[0m\u001b[0;34m\u001b[0m\u001b[0m\n\u001b[0m\u001b[1;32m      3\u001b[0m \u001b[0;34m\u001b[0m\u001b[0m\n\u001b[1;32m      4\u001b[0m \u001b[0;31m# Apply SMOTE followed by Tomek links to the training data\u001b[0m\u001b[0;34m\u001b[0m\u001b[0;34m\u001b[0m\u001b[0m\n\u001b[1;32m      5\u001b[0m \u001b[0mX_resampled\u001b[0m\u001b[0;34m,\u001b[0m \u001b[0my_resampled\u001b[0m \u001b[0;34m=\u001b[0m \u001b[0msmote_tomek\u001b[0m\u001b[0;34m.\u001b[0m\u001b[0mfit_resample\u001b[0m\u001b[0;34m(\u001b[0m\u001b[0mX_train_\u001b[0m\u001b[0;34m,\u001b[0m \u001b[0mY_train\u001b[0m\u001b[0;34m)\u001b[0m\u001b[0;34m\u001b[0m\u001b[0;34m\u001b[0m\u001b[0m\n",
            "\u001b[0;31mNameError\u001b[0m: name 'SMOTE' is not defined"
          ]
        }
      ],
      "source": [
        "### Handling Class Imbalance\n",
        "smote_tomek = SMOTE(random_state=42)\n",
        "\n",
        "# Apply SMOTE followed by Tomek links to the training data\n",
        "X_resampled, y_resampled = smote_tomek.fit_resample(X_train_, Y_train)"
      ]
    },
    {
      "cell_type": "code",
      "execution_count": null,
      "metadata": {
        "id": "CCkAv80ED3uD"
      },
      "outputs": [],
      "source": [
        "### Experimenting with Ensemble Models"
      ]
    },
    {
      "cell_type": "markdown",
      "metadata": {
        "id": "2NNtcrVkvtgj"
      },
      "source": [
        "Logistic Regression as binary classification problem"
      ]
    },
    {
      "cell_type": "code",
      "execution_count": null,
      "metadata": {
        "id": "k9SBumKUvsx8"
      },
      "outputs": [],
      "source": [
        "from sklearn.linear_model import LogisticRegression\n",
        "model = LogisticRegression()\n",
        "# model_val(model,X,Y)\n"
      ]
    },
    {
      "cell_type": "markdown",
      "metadata": {
        "id": "T-WY6sjUwhc9"
      },
      "source": [
        "Decision Tree"
      ]
    },
    {
      "cell_type": "code",
      "execution_count": null,
      "metadata": {
        "id": "eIY_TyHxwnz2"
      },
      "outputs": [],
      "source": [
        "from sklearn.tree import DecisionTreeClassifier\n",
        "model = DecisionTreeClassifier()\n",
        "model_val(model,X,Y)"
      ]
    },
    {
      "cell_type": "markdown",
      "metadata": {
        "id": "Qwq9qJU5w5og"
      },
      "source": [
        "Random Forest"
      ]
    },
    {
      "cell_type": "code",
      "execution_count": null,
      "metadata": {
        "id": "3v2HcRUVw8ci"
      },
      "outputs": [],
      "source": [
        "from sklearn.ensemble import RandomForestClassifier\n",
        "model = RandomForestClassifier()\n",
        "model_val(model,X,Y)"
      ]
    },
    {
      "cell_type": "markdown",
      "metadata": {
        "id": "xCgqwGIdxMLJ"
      },
      "source": [
        "Gradient Boosting classifier"
      ]
    },
    {
      "cell_type": "code",
      "execution_count": null,
      "metadata": {
        "id": "sED16NwbxPEp"
      },
      "outputs": [],
      "source": [
        "from sklearn.ensemble import GradientBoostingClassifier\n",
        "model = GradientBoostingClassifier()\n",
        "model_val(model,X,Y)"
      ]
    },
    {
      "cell_type": "code",
      "execution_count": null,
      "metadata": {
        "id": "cGNA3vyewa6j"
      },
      "outputs": [],
      "source": [
        "model_df"
      ]
    },
    {
      "cell_type": "markdown",
      "metadata": {
        "id": "4Z3v5rm_xba7"
      },
      "source": [
        "As clearly we are getting 100% accuracy, we do not go forward for hyper parameter training"
      ]
    },
    {
      "cell_type": "markdown",
      "metadata": {
        "id": "0PT6vLqtx8N5"
      },
      "source": [
        "Saving the model\n",
        "\n",
        "Considetring Decision Tree as best model\n",
        "\n"
      ]
    },
    {
      "cell_type": "code",
      "execution_count": null,
      "metadata": {
        "id": "G13IMVx9x2st"
      },
      "outputs": [],
      "source": [
        "X=df.drop('Defaulter',axis=1)\n",
        "Y=df['Defaulter']"
      ]
    },
    {
      "cell_type": "code",
      "execution_count": null,
      "metadata": {
        "id": "Gm6Hn_VSy2UJ"
      },
      "outputs": [],
      "source": [
        "dt = DecisionTreeClassifier(min_samples_split=5,min_samples_leaf=5,max_features='sqrt',max_depth=5)"
      ]
    },
    {
      "cell_type": "code",
      "execution_count": null,
      "metadata": {
        "id": "rT_8y83c5BxL"
      },
      "outputs": [],
      "source": [
        "dt.fit(X,Y)"
      ]
    },
    {
      "cell_type": "code",
      "execution_count": null,
      "metadata": {
        "id": "PTMJKMMhz3j1"
      },
      "outputs": [],
      "source": [
        "import joblib"
      ]
    },
    {
      "cell_type": "code",
      "execution_count": null,
      "metadata": {
        "id": "8-vg2n4vz5xG"
      },
      "outputs": [],
      "source": [
        "joblib.dump(dt,'defaulter_predict')"
      ]
    },
    {
      "cell_type": "code",
      "execution_count": null,
      "metadata": {
        "id": "w2pIcZAh0B8V"
      },
      "outputs": [],
      "source": [
        "model= joblib.load('defaulter_predict')"
      ]
    },
    {
      "cell_type": "code",
      "execution_count": null,
      "metadata": {
        "id": "82M7V1YR0gUL"
      },
      "outputs": [],
      "source": [
        "df.T"
      ]
    },
    {
      "cell_type": "code",
      "execution_count": null,
      "metadata": {
        "id": "gOZnWB6O62BI"
      },
      "outputs": [],
      "source": [
        "df1 = pd.DataFrame({\n",
        "    'Current Loan Amount':772706.00,\n",
        "    'Credit Score':599.00,\n",
        "    'Annual Income':1735061.00,\n",
        "    'Years in current job':10.00,\n",
        "    'Monthly Debt':28050.08,\n",
        "    'Years of Credit History':23.40,\n",
        "    'Months since last delinquent':63.00,\n",
        "    'Number of Open Accounts':12.00,\n",
        "    'Number of Credit Problems':1.00,\n",
        "    'Current Credit Balance':151316.00,\n",
        "    'Maximum Open Credit':395494.00\t,\n",
        "    'Bankruptcies':1.00,\n",
        "    'Tax Liens':0.00,\n",
        "    'Term_Long Term':1.00,\n",
        "    'Term_Short Term':0.00,\n",
        "    'Home Ownership_Home Mortgage':0.00,\n",
        "    'Home Ownership_Own Home':0.00,\n",
        "    'Home Ownership_Rent':1.00,\n",
        "    'Purpose_Business Loan':0.00,\n",
        "    'Purpose_Buy House':0.00,\n",
        "    'Purpose_Buy a Car':0.00,\n",
        "    'Purpose_Debt Consolidation':1.00,\n",
        "    'Purpose_Educational Expenses':0.00,\n",
        "    'Purpose_Home Improvements':0.00,\n",
        "    'Purpose_Medical Bills':0.00,\n",
        "    'Purpose_Other':0.00,\n",
        "    'Purpose_moving':0.00,\n",
        "    'Purpose_renewable_energy':0.00,\n",
        "    'Purpose_vacation':0.00,\n",
        "    'Purpose_wedding':0.00\n",
        "},index=[0])"
      ]
    },
    {
      "cell_type": "code",
      "execution_count": null,
      "metadata": {
        "id": "NPjBV8Ij635P"
      },
      "outputs": [],
      "source": [
        "result = model.predict(df1)\n",
        "if result==0:\n",
        "  print(\"Not defaulter\")\n",
        "else:\n",
        "  print(\"Defaulter\")\n"
      ]
    },
    {
      "cell_type": "markdown",
      "metadata": {
        "id": "rEnlhQli6_xd"
      },
      "source": [
        "Incorrect prediction 24th row entry in sheet"
      ]
    },
    {
      "cell_type": "code",
      "execution_count": null,
      "metadata": {
        "id": "krZpVRBy7AiW"
      },
      "outputs": [],
      "source": [
        "df1 = pd.DataFrame({\n",
        "    'Current Loan Amount':369908.00,\n",
        "    'Credit Score':520.00,\n",
        "    'Annual Income':1449491.00,\n",
        "    'Years in current job':10.00,\n",
        "    'Monthly Debt':12924.75,\n",
        "    'Years of Credit History':19.30,\n",
        "    'Months since last delinquent':3.00,\n",
        "    'Number of Open Accounts':4.00,\n",
        "    'Number of Credit Problems':0.00,\n",
        "    'Current Credit Balance':12882.00,\n",
        "    'Maximum Open Credit':207042.00\t,\n",
        "    'Bankruptcies':0.00,\n",
        "    'Tax Liens':0.00,\n",
        "    'Term_Long Term':0.00,\n",
        "    'Term_Short Term':1.00,\n",
        "    'Home Ownership_Home Mortgage':1.00,\n",
        "    'Home Ownership_Own Home':0.00,\n",
        "    'Home Ownership_Rent':0.00,\n",
        "    'Purpose_Business Loan':0.00,\n",
        "    'Purpose_Buy House':0.00,\n",
        "    'Purpose_Buy a Car':0.00,\n",
        "    'Purpose_Debt Consolidation':1.00,\n",
        "    'Purpose_Educational Expenses':0.00,\n",
        "    'Purpose_Home Improvements':0.00,\n",
        "    'Purpose_Medical Bills':0.00,\n",
        "    'Purpose_Other':0.00,\n",
        "    'Purpose_moving':0.00,\n",
        "    'Purpose_renewable_energy':0.00,\n",
        "    'Purpose_vacation':0.00,\n",
        "    'Purpose_wedding':0.00\n",
        "},index=[0])"
      ]
    },
    {
      "cell_type": "code",
      "execution_count": null,
      "metadata": {
        "id": "ED5LiclT7Agn"
      },
      "outputs": [],
      "source": [
        "result = model.predict(df1)\n",
        "if result==0:\n",
        "  print(\"Not defaulter\")\n",
        "else:\n",
        "  print(\"Defaulter\")"
      ]
    },
    {
      "cell_type": "markdown",
      "metadata": {
        "id": "AJIO97YX7G3j"
      },
      "source": [
        "correct prediction 25th row entry in sheet"
      ]
    },
    {
      "cell_type": "code",
      "execution_count": null,
      "metadata": {
        "id": "4HQ8OckS0B3T"
      },
      "outputs": [],
      "source": [
        "df1 = pd.DataFrame({\n",
        "    'Current Loan Amount':452166.00,\n",
        "    'Credit Score':708.00,\n",
        "    'Annual Income':1952516.00,\n",
        "    'Years in current job':1.00,\n",
        "    'Monthly Debt':34656.95,\n",
        "    'Years of Credit History':15.70,\n",
        "    'Months since last delinquent':1.00,\n",
        "    'Number of Open Accounts':14.00,\n",
        "    'Number of Credit Problems':0.00,\n",
        "    'Current Credit Balance':428925.00,\n",
        "    'Maximum Open Credit':546964.00\t,\n",
        "    'Bankruptcies':0.00,\n",
        "    'Tax Liens':0.00,\n",
        "    'Term_Long Term':1.00,\n",
        "    'Term_Short Term':0.00,\n",
        "    'Home Ownership_Home Mortgage':1.00,\n",
        "    'Home Ownership_Own Home':0.00,\n",
        "    'Home Ownership_Rent':0.00,\n",
        "    'Purpose_Business Loan':0.00,\n",
        "    'Purpose_Buy House':0.00,\n",
        "    'Purpose_Buy a Car':0.00,\n",
        "    'Purpose_Debt Consolidation':1.00,\n",
        "    'Purpose_Educational Expenses':0.00,\n",
        "    'Purpose_Home Improvements':0.00,\n",
        "    'Purpose_Medical Bills':0.00,\n",
        "    'Purpose_Other':0.00,\n",
        "    'Purpose_moving':0.00,\n",
        "    'Purpose_renewable_energy':0.00,\n",
        "    'Purpose_vacation':0.00,\n",
        "    'Purpose_wedding':0.00\n",
        "},index=[0])"
      ]
    },
    {
      "cell_type": "code",
      "execution_count": null,
      "metadata": {
        "id": "dymDWzE64hIg"
      },
      "outputs": [],
      "source": [
        "result = model.predict(df1)\n",
        "print(result)"
      ]
    },
    {
      "cell_type": "code",
      "execution_count": null,
      "metadata": {
        "id": "tzw8hFG6FNbz"
      },
      "outputs": [],
      "source": [
        "if result==0:\n",
        "  print(\"Not defaulter\")\n",
        "else:\n",
        "  print(\"Defaulter\")"
      ]
    },
    {
      "cell_type": "markdown",
      "metadata": {
        "id": "7j_LN47R7LiR"
      },
      "source": [
        "Incorrect prediction 1st row entry in sheet\n",
        "\n"
      ]
    },
    {
      "cell_type": "code",
      "execution_count": null,
      "metadata": {
        "id": "1r-NkkIU7LVZ"
      },
      "outputs": [],
      "source": [
        "df1 = pd.DataFrame({\n",
        "    'Current Loan Amount':304634.00,\n",
        "    'Credit Score':708.00,\n",
        "    'Annual Income':1597406.00,\n",
        "    'Years in current job':2.00,\n",
        "    'Monthly Debt':38470.63,\n",
        "    'Years of Credit History':17.80,\n",
        "    'Months since last delinquent':2.00,\n",
        "    'Number of Open Accounts':16.00,\n",
        "    'Number of Credit Problems':0.00,\n",
        "    'Current Credit Balance':329308.00,\n",
        "    'Maximum Open Credit':914408.00\t,\n",
        "    'Bankruptcies':0.00,\n",
        "    'Tax Liens':0.00,\n",
        "    'Term_Long Term':0.00,\n",
        "    'Term_Short Term':1.00,\n",
        "    'Home Ownership_Home Mortgage':1.00,\n",
        "    'Home Ownership_Own Home':0.00,\n",
        "    'Home Ownership_Rent':0.00,\n",
        "    'Purpose_Business Loan':0.00,\n",
        "    'Purpose_Buy House':0.00,\n",
        "    'Purpose_Buy a Car':0.00,\n",
        "    'Purpose_Debt Consolidation':1.00,\n",
        "    'Purpose_Educational Expenses':0.00,\n",
        "    'Purpose_Home Improvements':0.00,\n",
        "    'Purpose_Medical Bills':0.00,\n",
        "    'Purpose_Other':0.00,\n",
        "    'Purpose_moving':0.00,\n",
        "    'Purpose_renewable_energy':0.00,\n",
        "    'Purpose_vacation':0.00,\n",
        "    'Purpose_wedding':0.00\n",
        "},index=[0])"
      ]
    },
    {
      "cell_type": "code",
      "execution_count": null,
      "metadata": {
        "id": "sU8vDc8Jm6vS"
      },
      "outputs": [],
      "source": [
        "result = model.predict(df1)\n",
        "print(result)"
      ]
    },
    {
      "cell_type": "code",
      "execution_count": null,
      "metadata": {
        "id": "xWly3Ktlm-FF"
      },
      "outputs": [],
      "source": [
        "if result==0:\n",
        "  print(\"Not defaulter\")\n",
        "else:\n",
        "  print(\"Defaulter\")"
      ]
    },
    {
      "cell_type": "markdown",
      "metadata": {
        "id": "vEIGLdTx7Slj"
      },
      "source": [
        "Incorrect prediction 2nd row entry in sheet"
      ]
    }
  ],
  "metadata": {
    "colab": {
      "provenance": []
    },
    "kernelspec": {
      "display_name": "Python 3",
      "name": "python3"
    },
    "language_info": {
      "name": "python"
    }
  },
  "nbformat": 4,
  "nbformat_minor": 0
}